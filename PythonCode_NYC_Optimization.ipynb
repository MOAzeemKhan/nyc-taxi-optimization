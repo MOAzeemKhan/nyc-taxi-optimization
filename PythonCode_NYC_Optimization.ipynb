{
 "cells": [
  {
   "cell_type": "code",
   "execution_count": 1,
   "id": "4b6243e0",
   "metadata": {},
   "outputs": [],
   "source": [
    "import pulp"
   ]
  },
  {
   "cell_type": "code",
   "execution_count": 2,
   "id": "d9e6637c",
   "metadata": {},
   "outputs": [
    {
     "data": {
      "text/plain": [
       "{'236': 118813,\n",
       " '237': 111344,\n",
       " '161': 79534,\n",
       " '141': 75650,\n",
       " '142': 73180,\n",
       " '239': 72762,\n",
       " '170': 72590,\n",
       " '48': 70347,\n",
       " '162': 64410,\n",
       " '186': 63090}"
      ]
     },
     "execution_count": 2,
     "metadata": {},
     "output_type": "execute_result"
    }
   ],
   "source": [
    "list1=[\"236\",\"237\",\"161\",\"141\",\"142\",\"239\",\"170\",\"48\",\"162\",\"186\"]\n",
    "list2=[118813,111344,79534,75650,73180,72762,72590,70347,64410,63090]\n",
    "\n",
    "list3=dict(zip(list1,list2))\n",
    "list3"
   ]
  },
  {
   "cell_type": "code",
   "execution_count": 3,
   "id": "ba8a494b",
   "metadata": {},
   "outputs": [
    {
     "data": {
      "text/plain": [
       "defaultdict(<function pulp.utilities.__makeDict.<locals>.<lambda>()>,\n",
       "            {'236': defaultdict(<function pulp.utilities.__makeDict.<locals>.<lambda>()>,\n",
       "                         {'236': 10.63803066,\n",
       "                          '237': 11.60614686,\n",
       "                          '161': 15.32220056,\n",
       "                          '141': 11.58488895,\n",
       "                          '142': 15.60665517,\n",
       "                          '239': 13.53822612,\n",
       "                          '170': 17.65766042,\n",
       "                          '48': 18.25891393,\n",
       "                          '162': 14.71125601,\n",
       "                          '186': 21.41376282}),\n",
       "             '237': defaultdict(<function pulp.utilities.__makeDict.<locals>.<lambda>()>,\n",
       "                         {'236': 12.25793377,\n",
       "                          '237': 10.70192695,\n",
       "                          '161': 12.00947351,\n",
       "                          '141': 10.64983507,\n",
       "                          '142': 12.92001991,\n",
       "                          '239': 14.82567551,\n",
       "                          '170': 14.11869359,\n",
       "                          '48': 14.64590376,\n",
       "                          '162': 11.61193707,\n",
       "                          '186': 17.8319642}),\n",
       "             '161': defaultdict(<function pulp.utilities.__makeDict.<locals>.<lambda>()>,\n",
       "                         {'236': 15.65745826,\n",
       "                          '237': 11.99720843,\n",
       "                          '161': 12.51374635,\n",
       "                          '141': 14.03258814,\n",
       "                          '142': 13.24577141,\n",
       "                          '239': 16.57040217,\n",
       "                          '170': 11.41645603,\n",
       "                          '48': 11.40782298,\n",
       "                          '162': 10.65400556,\n",
       "                          '186': 12.69033026}),\n",
       "             '141': defaultdict(<function pulp.utilities.__makeDict.<locals>.<lambda>()>,\n",
       "                         {'236': 12.68565285,\n",
       "                          '237': 10.77172876,\n",
       "                          '161': 13.87497968,\n",
       "                          '141': 10.85895231,\n",
       "                          '142': 14.83448518,\n",
       "                          '239': 15.78412371,\n",
       "                          '170': 14.51544294,\n",
       "                          '48': 16.4086892,\n",
       "                          '162': 12.09701445,\n",
       "                          '186': 19.37492683}),\n",
       "             '142': defaultdict(<function pulp.utilities.__makeDict.<locals>.<lambda>()>,\n",
       "                         {'236': 15.30196748,\n",
       "                          '237': 13.1039766,\n",
       "                          '161': 13.72346687,\n",
       "                          '141': 14.76262458,\n",
       "                          '142': 11.71369048,\n",
       "                          '239': 10.88490997,\n",
       "                          '170': 17.41598234,\n",
       "                          '48': 11.12446851,\n",
       "                          '162': 15.31533645,\n",
       "                          '186': 15.55810569}),\n",
       "             '239': defaultdict(<function pulp.utilities.__makeDict.<locals>.<lambda>()>,\n",
       "                         {'236': 13.23094703,\n",
       "                          '237': 14.92030015,\n",
       "                          '161': 16.9562656,\n",
       "                          '141': 15.79671217,\n",
       "                          '142': 11.24735203,\n",
       "                          '239': 11.0914402,\n",
       "                          '170': 20.75459941,\n",
       "                          '48': 13.84435615,\n",
       "                          '162': 18.29360367,\n",
       "                          '186': 18.93228007}),\n",
       "             '170': defaultdict(<function pulp.utilities.__makeDict.<locals>.<lambda>()>,\n",
       "                         {'236': 18.68837186,\n",
       "                          '237': 14.18869044,\n",
       "                          '161': 11.66308196,\n",
       "                          '141': 15.05687923,\n",
       "                          '142': 17.22359386,\n",
       "                          '239': 20.65965478,\n",
       "                          '170': 12.24159947,\n",
       "                          '48': 14.1681974,\n",
       "                          '162': 11.1302462,\n",
       "                          '186': 12.5611252}),\n",
       "             '48': defaultdict(<function pulp.utilities.__makeDict.<locals>.<lambda>()>,\n",
       "                         {'236': 18.87895062,\n",
       "                          '237': 15.43952351,\n",
       "                          '161': 12.46372956,\n",
       "                          '141': 17.23799366,\n",
       "                          '142': 11.05453381,\n",
       "                          '239': 13.88874391,\n",
       "                          '170': 14.42156923,\n",
       "                          '48': 12.13210383,\n",
       "                          '162': 13.54352667,\n",
       "                          '186': 12.05152167}),\n",
       "             '162': defaultdict(<function pulp.utilities.__makeDict.<locals>.<lambda>()>,\n",
       "                         {'236': 15.21639799,\n",
       "                          '237': 11.56684995,\n",
       "                          '161': 10.65486794,\n",
       "                          '141': 12.78366744,\n",
       "                          '142': 14.45222603,\n",
       "                          '239': 18.0359707,\n",
       "                          '170': 11.1975332,\n",
       "                          '48': 13.13097081,\n",
       "                          '162': 12.46571951,\n",
       "                          '186': 14.67656966}),\n",
       "             '186': defaultdict(<function pulp.utilities.__makeDict.<locals>.<lambda>()>,\n",
       "                         {'236': 21.94766206,\n",
       "                          '237': 17.83676587,\n",
       "                          '161': 13.05696618,\n",
       "                          '141': 19.68705189,\n",
       "                          '142': 15.21865934,\n",
       "                          '239': 19.00171233,\n",
       "                          '170': 12.40842086,\n",
       "                          '48': 12.05752976,\n",
       "                          '162': 14.23897089,\n",
       "                          '186': 16.93007778})})"
      ]
     },
     "execution_count": 3,
     "metadata": {},
     "output_type": "execute_result"
    }
   ],
   "source": [
    "# Creates a list of all the supply nodes\n",
    "drop_off_loc = [\"236\",\"237\",\"161\",\"141\",\"142\",\"239\",\"170\",\"48\",\"162\",\"186\"]\n",
    "\n",
    "# Creates a dictionary for the number of units of supply for each supply node\n",
    "supply = {'236': 118813,\n",
    " '237': 111344,\n",
    " '161': 79534,\n",
    " '141': 75650,\n",
    " '142': 73180,\n",
    " '239': 72762,\n",
    " '170': 72590,\n",
    " '48': 70347,\n",
    " '162': 64410,\n",
    " '186': 63090}\n",
    "\n",
    "# Creates a list of all demand nodes\n",
    "pick_up_loc = [\"236\",\"237\",\"161\",\"141\",\"142\",\"239\",\"170\",\"48\",\"162\",\"186\"]\n",
    "\n",
    "# Creates a dictionary for the number of units of demand for each demand node\n",
    "demand = {'236': 118813,\n",
    " '237': 111344,\n",
    " '161': 79534,\n",
    " '141': 75650,\n",
    " '142': 73180,\n",
    " '239': 72762,\n",
    " '170': 72590,\n",
    " '48': 70347,\n",
    " '162': 64410,\n",
    " '186': 63090}\n",
    "\n",
    "# Creates a list of costs of each transportation path\n",
    "costs = [\n",
    "[10.63803066, 11.60614686, 15.32220056, 11.58488895, 15.60665517, 13.53822612, 17.65766042, 18.25891393, 14.71125601, 21.41376282], \n",
    "[12.25793377, 10.70192695, 12.00947351, 10.64983507, 12.92001991, 14.82567551, 14.11869359, 14.64590376, 11.61193707, 17.8319642], \n",
    "[15.65745826, 11.99720843, 12.51374635, 14.03258814, 13.24577141, 16.57040217, 11.41645603, 11.40782298, 10.65400556, 12.69033026], \n",
    "[12.68565285, 10.77172876, 13.87497968, 10.85895231, 14.83448518, 15.78412371, 14.51544294, 16.4086892, 12.09701445, 19.37492683], \n",
    "[15.30196748, 13.1039766, 13.72346687, 14.76262458, 11.71369048, 10.88490997, 17.41598234, 11.12446851, 15.31533645, 15.55810569], \n",
    "[13.23094703, 14.92030015, 16.9562656, 15.79671217, 11.24735203, 11.0914402, 20.75459941, 13.84435615, 18.29360367, 18.93228007], \n",
    "[18.68837186, 14.18869044, 11.66308196, 15.05687923, 17.22359386, 20.65965478, 12.24159947, 14.1681974, 11.1302462, 12.5611252], \n",
    "[18.87895062, 15.43952351, 12.46372956, 17.23799366, 11.05453381, 13.88874391, 14.42156923, 12.13210383, 13.54352667, 12.05152167], \n",
    "[15.21639799, 11.56684995, 10.65486794, 12.78366744, 14.45222603, 18.0359707, 11.1975332, 13.13097081, 12.46571951, 14.67656966], \n",
    "[21.94766206, 17.83676587, 13.05696618, 19.68705189, 15.21865934, 19.00171233, 12.40842086, 12.05752976, 14.23897089, 16.93007778]\n",
    "]\n",
    "\n",
    "# The cost data is made into a dictionary\n",
    "costs = pulp.makeDict([drop_off_loc, pick_up_loc], costs, 0)\n",
    "\n",
    "costs"
   ]
  },
  {
   "cell_type": "code",
   "execution_count": 4,
   "id": "9b3e2833",
   "metadata": {},
   "outputs": [
    {
     "name": "stderr",
     "output_type": "stream",
     "text": [
      "C:\\Users\\risha\\AppData\\Local\\Programs\\Python\\Python310\\lib\\site-packages\\pulp\\pulp.py:1352: UserWarning: Spaces are not permitted in the name. Converted to '_'\n",
      "  warnings.warn(\"Spaces are not permitted in the name. Converted to '_'\")\n"
     ]
    }
   ],
   "source": [
    "# Import PuLP modeler functions\n",
    "from pulp import *\n",
    "\n",
    "# Creates the 'prob' variable to contain the problem data\n",
    "prob = LpProblem(\"Material Supply Problem\", LpMaximize)"
   ]
  },
  {
   "cell_type": "code",
   "execution_count": 5,
   "id": "c2a780f2",
   "metadata": {},
   "outputs": [],
   "source": [
    "# Creates a list of tuples containing all the possible routes for transport\n",
    "Routes = [(w, b) for w in drop_off_loc for b in pick_up_loc]\n",
    "\n",
    "# A dictionary called 'Vars' is created to contain the referenced variables(the routes)\n",
    "vars = LpVariable.dicts(\"Route\", (drop_off_loc, pick_up_loc), 0, None, LpInteger)"
   ]
  },
  {
   "cell_type": "code",
   "execution_count": 6,
   "id": "f6605d1d",
   "metadata": {},
   "outputs": [],
   "source": [
    "# The minimum objective function is added to 'prob' first\n",
    "prob += (\n",
    "    lpSum([vars[w][b] * costs[w][b] for (w, b) in Routes]),\n",
    "    \"Sum_of_Transporting_Costs\",\n",
    ")"
   ]
  },
  {
   "cell_type": "code",
   "execution_count": 7,
   "id": "07e20fcc",
   "metadata": {},
   "outputs": [],
   "source": [
    "# The supply maximum constraints are added to prob for each supply node (drop_off_loc)\n",
    "for w in drop_off_loc:\n",
    "    prob += (\n",
    "        lpSum([vars[w][b] for b in pick_up_loc]) <= supply[w],\n",
    "        \"Sum_of_Products_out_of_drop_off_loc_%s\" % w,\n",
    "    )\n",
    "\n",
    "# The demand minimum constraints are added to prob for each demand node (project)\n",
    "for b in pick_up_loc:\n",
    "    prob += (\n",
    "        lpSum([vars[w][b] for w in drop_off_loc]) >= demand[b],\n",
    "        \"Sum_of_Products_into_pick_up_loc%s\" % b,\n",
    "    )"
   ]
  },
  {
   "cell_type": "code",
   "execution_count": 8,
   "id": "267b1e91",
   "metadata": {},
   "outputs": [
    {
     "name": "stdout",
     "output_type": "stream",
     "text": [
      "Route_141_142 = 64665.0\n",
      "Route_141_161 = 10985.0\n",
      "Route_142_162 = 64238.0\n",
      "Route_142_237 = 8942.0\n",
      "Route_161_141 = 75650.0\n",
      "Route_161_237 = 3884.0\n",
      "Route_162_239 = 64410.0\n",
      "Route_170_142 = 8515.0\n",
      "Route_170_236 = 55723.0\n",
      "Route_170_239 = 8352.0\n",
      "Route_186_236 = 63090.0\n",
      "Route_236_186 = 48466.0\n",
      "Route_236_48 = 70347.0\n",
      "Route_237_161 = 68549.0\n",
      "Route_237_186 = 14624.0\n",
      "Route_237_237 = 28171.0\n",
      "Route_239_162 = 172.0\n",
      "Route_239_170 = 72590.0\n",
      "Route_48_237 = 70347.0\n",
      "Value of Objective Function =  13531451.09029774\n"
     ]
    }
   ],
   "source": [
    "# The problem is solved using PuLP's choice of Solver\n",
    "prob.solve()\n",
    "\n",
    "# Print the variables optimized value\n",
    "for v in prob.variables():\n",
    "    if v.varValue!=0:\n",
    "        print(v.name, \"=\", v.varValue)\n",
    "    \n",
    "# The optimised objective function value is printed to the screen\n",
    "print(\"Value of Objective Function = \", value(prob.objective))\n",
    "\n"
   ]
  },
  {
   "cell_type": "code",
   "execution_count": null,
   "id": "548781e3",
   "metadata": {},
   "outputs": [],
   "source": []
  }
 ],
 "metadata": {
  "kernelspec": {
   "display_name": "Python 3 (ipykernel)",
   "language": "python",
   "name": "python3"
  },
  "language_info": {
   "codemirror_mode": {
    "name": "ipython",
    "version": 3
   },
   "file_extension": ".py",
   "mimetype": "text/x-python",
   "name": "python",
   "nbconvert_exporter": "python",
   "pygments_lexer": "ipython3",
   "version": "3.10.6"
  }
 },
 "nbformat": 4,
 "nbformat_minor": 5
}
