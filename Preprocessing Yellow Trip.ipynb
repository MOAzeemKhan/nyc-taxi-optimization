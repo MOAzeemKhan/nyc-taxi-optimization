{
 "cells": [
  {
   "cell_type": "code",
   "execution_count": 1,
   "id": "c7a93c63",
   "metadata": {},
   "outputs": [],
   "source": [
    "import pandas as pd\n",
    "import numpy as np\n",
    "from datetime import datetime"
   ]
  },
  {
   "cell_type": "code",
   "execution_count": 2,
   "id": "ccbd3a1e",
   "metadata": {},
   "outputs": [],
   "source": [
    "path_1 = \"yellow_tripdata_2022-01.csv\""
   ]
  },
  {
   "cell_type": "code",
   "execution_count": 3,
   "id": "ed757b2c",
   "metadata": {},
   "outputs": [],
   "source": [
    "df = pd.read_csv(path_1, low_memory=False)"
   ]
  },
  {
   "cell_type": "code",
   "execution_count": 4,
   "id": "e68bd46c",
   "metadata": {
    "scrolled": true
   },
   "outputs": [
    {
     "data": {
      "text/html": [
       "<div>\n",
       "<style scoped>\n",
       "    .dataframe tbody tr th:only-of-type {\n",
       "        vertical-align: middle;\n",
       "    }\n",
       "\n",
       "    .dataframe tbody tr th {\n",
       "        vertical-align: top;\n",
       "    }\n",
       "\n",
       "    .dataframe thead th {\n",
       "        text-align: right;\n",
       "    }\n",
       "</style>\n",
       "<table border=\"1\" class=\"dataframe\">\n",
       "  <thead>\n",
       "    <tr style=\"text-align: right;\">\n",
       "      <th></th>\n",
       "      <th>1</th>\n",
       "      <th>2022-01-01 00:35:40</th>\n",
       "      <th>2022-01-01 00:53:29</th>\n",
       "      <th>2.0</th>\n",
       "      <th>3.8</th>\n",
       "      <th>1.0</th>\n",
       "      <th>N</th>\n",
       "      <th>142</th>\n",
       "      <th>236</th>\n",
       "      <th>1.1</th>\n",
       "      <th>14.5</th>\n",
       "      <th>3.0</th>\n",
       "      <th>0.5</th>\n",
       "      <th>3.65</th>\n",
       "      <th>0.0</th>\n",
       "      <th>0.3</th>\n",
       "      <th>21.95</th>\n",
       "      <th>2.5</th>\n",
       "      <th>0.0.1</th>\n",
       "    </tr>\n",
       "  </thead>\n",
       "  <tbody>\n",
       "    <tr>\n",
       "      <th>0</th>\n",
       "      <td>1</td>\n",
       "      <td>2022-01-01 00:33:43</td>\n",
       "      <td>2022-01-01 00:42:07</td>\n",
       "      <td>1.0</td>\n",
       "      <td>2.10</td>\n",
       "      <td>1.0</td>\n",
       "      <td>N</td>\n",
       "      <td>236</td>\n",
       "      <td>42</td>\n",
       "      <td>1</td>\n",
       "      <td>8.0</td>\n",
       "      <td>0.5</td>\n",
       "      <td>0.5</td>\n",
       "      <td>4.00</td>\n",
       "      <td>0.00</td>\n",
       "      <td>0.3</td>\n",
       "      <td>13.30</td>\n",
       "      <td>0.0</td>\n",
       "      <td>0.0</td>\n",
       "    </tr>\n",
       "    <tr>\n",
       "      <th>1</th>\n",
       "      <td>2</td>\n",
       "      <td>2022-01-01 00:53:21</td>\n",
       "      <td>2022-01-01 01:02:19</td>\n",
       "      <td>1.0</td>\n",
       "      <td>0.97</td>\n",
       "      <td>1.0</td>\n",
       "      <td>N</td>\n",
       "      <td>166</td>\n",
       "      <td>166</td>\n",
       "      <td>1</td>\n",
       "      <td>7.5</td>\n",
       "      <td>0.5</td>\n",
       "      <td>0.5</td>\n",
       "      <td>1.76</td>\n",
       "      <td>0.00</td>\n",
       "      <td>0.3</td>\n",
       "      <td>10.56</td>\n",
       "      <td>0.0</td>\n",
       "      <td>0.0</td>\n",
       "    </tr>\n",
       "    <tr>\n",
       "      <th>2</th>\n",
       "      <td>2</td>\n",
       "      <td>2022-01-01 00:25:21</td>\n",
       "      <td>2022-01-01 00:35:23</td>\n",
       "      <td>1.0</td>\n",
       "      <td>1.09</td>\n",
       "      <td>1.0</td>\n",
       "      <td>N</td>\n",
       "      <td>114</td>\n",
       "      <td>68</td>\n",
       "      <td>2</td>\n",
       "      <td>8.0</td>\n",
       "      <td>0.5</td>\n",
       "      <td>0.5</td>\n",
       "      <td>0.00</td>\n",
       "      <td>0.00</td>\n",
       "      <td>0.3</td>\n",
       "      <td>11.80</td>\n",
       "      <td>2.5</td>\n",
       "      <td>0.0</td>\n",
       "    </tr>\n",
       "    <tr>\n",
       "      <th>3</th>\n",
       "      <td>2</td>\n",
       "      <td>2022-01-01 00:36:48</td>\n",
       "      <td>2022-01-01 01:14:20</td>\n",
       "      <td>1.0</td>\n",
       "      <td>4.30</td>\n",
       "      <td>1.0</td>\n",
       "      <td>N</td>\n",
       "      <td>68</td>\n",
       "      <td>163</td>\n",
       "      <td>1</td>\n",
       "      <td>23.5</td>\n",
       "      <td>0.5</td>\n",
       "      <td>0.5</td>\n",
       "      <td>3.00</td>\n",
       "      <td>0.00</td>\n",
       "      <td>0.3</td>\n",
       "      <td>30.30</td>\n",
       "      <td>2.5</td>\n",
       "      <td>0.0</td>\n",
       "    </tr>\n",
       "    <tr>\n",
       "      <th>4</th>\n",
       "      <td>1</td>\n",
       "      <td>2022-01-01 00:40:15</td>\n",
       "      <td>2022-01-01 01:09:48</td>\n",
       "      <td>1.0</td>\n",
       "      <td>10.30</td>\n",
       "      <td>1.0</td>\n",
       "      <td>N</td>\n",
       "      <td>138</td>\n",
       "      <td>161</td>\n",
       "      <td>1</td>\n",
       "      <td>33.0</td>\n",
       "      <td>3.0</td>\n",
       "      <td>0.5</td>\n",
       "      <td>13.00</td>\n",
       "      <td>6.55</td>\n",
       "      <td>0.3</td>\n",
       "      <td>56.35</td>\n",
       "      <td>2.5</td>\n",
       "      <td>0.0</td>\n",
       "    </tr>\n",
       "  </tbody>\n",
       "</table>\n",
       "</div>"
      ],
      "text/plain": [
       "   1  2022-01-01 00:35:40  2022-01-01 00:53:29  2.0    3.8  1.0  N  142  236  \\\n",
       "0  1  2022-01-01 00:33:43  2022-01-01 00:42:07  1.0   2.10  1.0  N  236   42   \n",
       "1  2  2022-01-01 00:53:21  2022-01-01 01:02:19  1.0   0.97  1.0  N  166  166   \n",
       "2  2  2022-01-01 00:25:21  2022-01-01 00:35:23  1.0   1.09  1.0  N  114   68   \n",
       "3  2  2022-01-01 00:36:48  2022-01-01 01:14:20  1.0   4.30  1.0  N   68  163   \n",
       "4  1  2022-01-01 00:40:15  2022-01-01 01:09:48  1.0  10.30  1.0  N  138  161   \n",
       "\n",
       "   1.1  14.5  3.0  0.5   3.65   0.0  0.3  21.95  2.5  0.0.1  \n",
       "0    1   8.0  0.5  0.5   4.00  0.00  0.3  13.30  0.0    0.0  \n",
       "1    1   7.5  0.5  0.5   1.76  0.00  0.3  10.56  0.0    0.0  \n",
       "2    2   8.0  0.5  0.5   0.00  0.00  0.3  11.80  2.5    0.0  \n",
       "3    1  23.5  0.5  0.5   3.00  0.00  0.3  30.30  2.5    0.0  \n",
       "4    1  33.0  3.0  0.5  13.00  6.55  0.3  56.35  2.5    0.0  "
      ]
     },
     "execution_count": 4,
     "metadata": {},
     "output_type": "execute_result"
    }
   ],
   "source": [
    "df.head()"
   ]
  },
  {
   "cell_type": "code",
   "execution_count": 5,
   "id": "faf03b9a",
   "metadata": {},
   "outputs": [
    {
     "data": {
      "text/plain": [
       "(2463930, 19)"
      ]
     },
     "execution_count": 5,
     "metadata": {},
     "output_type": "execute_result"
    }
   ],
   "source": [
    "df.shape"
   ]
  },
  {
   "cell_type": "code",
   "execution_count": 6,
   "id": "316cc71b",
   "metadata": {},
   "outputs": [
    {
     "data": {
      "text/plain": [
       "array([1, 2, 6, 5], dtype=int64)"
      ]
     },
     "execution_count": 6,
     "metadata": {},
     "output_type": "execute_result"
    }
   ],
   "source": [
    "df['1'].unique()"
   ]
  },
  {
   "cell_type": "code",
   "execution_count": 7,
   "id": "08da5ce8",
   "metadata": {},
   "outputs": [
    {
     "data": {
      "text/plain": [
       "2    1716059\n",
       "1     742272\n",
       "6       5563\n",
       "5         36\n",
       "Name: 1, dtype: int64"
      ]
     },
     "execution_count": 7,
     "metadata": {},
     "output_type": "execute_result"
    }
   ],
   "source": [
    "df['1'].value_counts()"
   ]
  },
  {
   "cell_type": "code",
   "execution_count": 8,
   "id": "9eb1f6d3",
   "metadata": {},
   "outputs": [
    {
     "data": {
      "text/plain": [
       "['1',\n",
       " '2022-01-01 00:35:40',\n",
       " '2022-01-01 00:53:29',\n",
       " '2.0',\n",
       " '3.8',\n",
       " '1.0',\n",
       " 'N',\n",
       " '142',\n",
       " '236',\n",
       " '1.1',\n",
       " '14.5',\n",
       " '3.0',\n",
       " '0.5',\n",
       " '3.65',\n",
       " '0.0',\n",
       " '0.3',\n",
       " '21.95',\n",
       " '2.5',\n",
       " '0.0.1']"
      ]
     },
     "execution_count": 8,
     "metadata": {},
     "output_type": "execute_result"
    }
   ],
   "source": [
    "x = list(df.columns)\n",
    "x"
   ]
  },
  {
   "cell_type": "code",
   "execution_count": 11,
   "id": "b2f1f309",
   "metadata": {
    "scrolled": true
   },
   "outputs": [
    {
     "data": {
      "text/plain": [
       "array([ 1.,  2.,  5.,  3.,  4., 99.,  6., nan])"
      ]
     },
     "execution_count": 11,
     "metadata": {},
     "output_type": "execute_result"
    }
   ],
   "source": [
    "df['1.0'].unique()"
   ]
  },
  {
   "cell_type": "code",
   "execution_count": 14,
   "id": "68fbddaa",
   "metadata": {},
   "outputs": [],
   "source": [
    "x = ['2022-01-01 00:35:40', '2022-01-01 00:53:29','1.0',\n",
    "       'N','14.5', '3.0', '0.5', '3.65',\n",
    "       '0.0', '0.3', '2.5', '0.0.1', '1', '3.8', '2.0']\n",
    "# For yellow_trip"
   ]
  },
  {
   "cell_type": "code",
   "execution_count": 15,
   "id": "4ed37fbe",
   "metadata": {},
   "outputs": [
    {
     "data": {
      "text/plain": [
       "['2022-01-01 00:35:40',\n",
       " '2022-01-01 00:53:29',\n",
       " '1.0',\n",
       " 'N',\n",
       " '14.5',\n",
       " '3.0',\n",
       " '0.5',\n",
       " '3.65',\n",
       " '0.0',\n",
       " '0.3',\n",
       " '2.5',\n",
       " '0.0.1',\n",
       " '1',\n",
       " '3.8',\n",
       " '2.0']"
      ]
     },
     "execution_count": 15,
     "metadata": {},
     "output_type": "execute_result"
    }
   ],
   "source": [
    "x"
   ]
  },
  {
   "cell_type": "code",
   "execution_count": 16,
   "id": "982c6a65",
   "metadata": {},
   "outputs": [],
   "source": [
    "df = df.drop(x,axis=1)"
   ]
  },
  {
   "cell_type": "code",
   "execution_count": 17,
   "id": "8b10d073",
   "metadata": {},
   "outputs": [
    {
     "data": {
      "text/html": [
       "<div>\n",
       "<style scoped>\n",
       "    .dataframe tbody tr th:only-of-type {\n",
       "        vertical-align: middle;\n",
       "    }\n",
       "\n",
       "    .dataframe tbody tr th {\n",
       "        vertical-align: top;\n",
       "    }\n",
       "\n",
       "    .dataframe thead th {\n",
       "        text-align: right;\n",
       "    }\n",
       "</style>\n",
       "<table border=\"1\" class=\"dataframe\">\n",
       "  <thead>\n",
       "    <tr style=\"text-align: right;\">\n",
       "      <th></th>\n",
       "      <th>142</th>\n",
       "      <th>236</th>\n",
       "      <th>1.1</th>\n",
       "      <th>21.95</th>\n",
       "    </tr>\n",
       "  </thead>\n",
       "  <tbody>\n",
       "    <tr>\n",
       "      <th>0</th>\n",
       "      <td>236</td>\n",
       "      <td>42</td>\n",
       "      <td>1</td>\n",
       "      <td>13.30</td>\n",
       "    </tr>\n",
       "    <tr>\n",
       "      <th>1</th>\n",
       "      <td>166</td>\n",
       "      <td>166</td>\n",
       "      <td>1</td>\n",
       "      <td>10.56</td>\n",
       "    </tr>\n",
       "    <tr>\n",
       "      <th>2</th>\n",
       "      <td>114</td>\n",
       "      <td>68</td>\n",
       "      <td>2</td>\n",
       "      <td>11.80</td>\n",
       "    </tr>\n",
       "    <tr>\n",
       "      <th>3</th>\n",
       "      <td>68</td>\n",
       "      <td>163</td>\n",
       "      <td>1</td>\n",
       "      <td>30.30</td>\n",
       "    </tr>\n",
       "    <tr>\n",
       "      <th>4</th>\n",
       "      <td>138</td>\n",
       "      <td>161</td>\n",
       "      <td>1</td>\n",
       "      <td>56.35</td>\n",
       "    </tr>\n",
       "  </tbody>\n",
       "</table>\n",
       "</div>"
      ],
      "text/plain": [
       "   142  236  1.1  21.95\n",
       "0  236   42    1  13.30\n",
       "1  166  166    1  10.56\n",
       "2  114   68    2  11.80\n",
       "3   68  163    1  30.30\n",
       "4  138  161    1  56.35"
      ]
     },
     "execution_count": 17,
     "metadata": {},
     "output_type": "execute_result"
    }
   ],
   "source": [
    "df.head()"
   ]
  },
  {
   "cell_type": "code",
   "execution_count": 18,
   "id": "0347bacb",
   "metadata": {
    "scrolled": false
   },
   "outputs": [
    {
     "data": {
      "text/html": [
       "<div>\n",
       "<style scoped>\n",
       "    .dataframe tbody tr th:only-of-type {\n",
       "        vertical-align: middle;\n",
       "    }\n",
       "\n",
       "    .dataframe tbody tr th {\n",
       "        vertical-align: top;\n",
       "    }\n",
       "\n",
       "    .dataframe thead th {\n",
       "        text-align: right;\n",
       "    }\n",
       "</style>\n",
       "<table border=\"1\" class=\"dataframe\">\n",
       "  <thead>\n",
       "    <tr style=\"text-align: right;\">\n",
       "      <th></th>\n",
       "      <th>Pickup_Location</th>\n",
       "      <th>Dropoff_Location</th>\n",
       "      <th>Passenger_count</th>\n",
       "      <th>Fare</th>\n",
       "    </tr>\n",
       "  </thead>\n",
       "  <tbody>\n",
       "    <tr>\n",
       "      <th>0</th>\n",
       "      <td>236</td>\n",
       "      <td>42</td>\n",
       "      <td>1</td>\n",
       "      <td>13.30</td>\n",
       "    </tr>\n",
       "    <tr>\n",
       "      <th>1</th>\n",
       "      <td>166</td>\n",
       "      <td>166</td>\n",
       "      <td>1</td>\n",
       "      <td>10.56</td>\n",
       "    </tr>\n",
       "    <tr>\n",
       "      <th>2</th>\n",
       "      <td>114</td>\n",
       "      <td>68</td>\n",
       "      <td>2</td>\n",
       "      <td>11.80</td>\n",
       "    </tr>\n",
       "    <tr>\n",
       "      <th>3</th>\n",
       "      <td>68</td>\n",
       "      <td>163</td>\n",
       "      <td>1</td>\n",
       "      <td>30.30</td>\n",
       "    </tr>\n",
       "    <tr>\n",
       "      <th>4</th>\n",
       "      <td>138</td>\n",
       "      <td>161</td>\n",
       "      <td>1</td>\n",
       "      <td>56.35</td>\n",
       "    </tr>\n",
       "    <tr>\n",
       "      <th>...</th>\n",
       "      <td>...</td>\n",
       "      <td>...</td>\n",
       "      <td>...</td>\n",
       "      <td>...</td>\n",
       "    </tr>\n",
       "    <tr>\n",
       "      <th>2463925</th>\n",
       "      <td>90</td>\n",
       "      <td>170</td>\n",
       "      <td>0</td>\n",
       "      <td>13.69</td>\n",
       "    </tr>\n",
       "    <tr>\n",
       "      <th>2463926</th>\n",
       "      <td>107</td>\n",
       "      <td>75</td>\n",
       "      <td>0</td>\n",
       "      <td>24.45</td>\n",
       "    </tr>\n",
       "    <tr>\n",
       "      <th>2463927</th>\n",
       "      <td>113</td>\n",
       "      <td>246</td>\n",
       "      <td>0</td>\n",
       "      <td>16.52</td>\n",
       "    </tr>\n",
       "    <tr>\n",
       "      <th>2463928</th>\n",
       "      <td>148</td>\n",
       "      <td>164</td>\n",
       "      <td>0</td>\n",
       "      <td>15.70</td>\n",
       "    </tr>\n",
       "    <tr>\n",
       "      <th>2463929</th>\n",
       "      <td>186</td>\n",
       "      <td>181</td>\n",
       "      <td>0</td>\n",
       "      <td>35.06</td>\n",
       "    </tr>\n",
       "  </tbody>\n",
       "</table>\n",
       "<p>2463930 rows × 4 columns</p>\n",
       "</div>"
      ],
      "text/plain": [
       "         Pickup_Location  Dropoff_Location  Passenger_count   Fare\n",
       "0                    236                42                1  13.30\n",
       "1                    166               166                1  10.56\n",
       "2                    114                68                2  11.80\n",
       "3                     68               163                1  30.30\n",
       "4                    138               161                1  56.35\n",
       "...                  ...               ...              ...    ...\n",
       "2463925               90               170                0  13.69\n",
       "2463926              107                75                0  24.45\n",
       "2463927              113               246                0  16.52\n",
       "2463928              148               164                0  15.70\n",
       "2463929              186               181                0  35.06\n",
       "\n",
       "[2463930 rows x 4 columns]"
      ]
     },
     "execution_count": 18,
     "metadata": {},
     "output_type": "execute_result"
    }
   ],
   "source": [
    "# For Yellow_Trip \n",
    "df.rename(columns = {'1.1': 'Passenger_count', '142': 'Pickup_Location', \n",
    "                     '236': 'Dropoff_Location', '21.95': 'Fare'}, inplace = True)\n",
    "df"
   ]
  },
  {
   "cell_type": "code",
   "execution_count": 20,
   "id": "51073b93",
   "metadata": {},
   "outputs": [
    {
     "data": {
      "text/plain": [
       "(2463930, 4)"
      ]
     },
     "execution_count": 20,
     "metadata": {},
     "output_type": "execute_result"
    }
   ],
   "source": [
    "df.shape"
   ]
  },
  {
   "cell_type": "code",
   "execution_count": 21,
   "id": "9728409a",
   "metadata": {},
   "outputs": [
    {
     "name": "stdout",
     "output_type": "stream",
     "text": [
      "Pickup_Location [236 166 114  68 138 233 238 141 234 246  43 239 148 237   7 107 263 161\n",
      "  79 170 162   4 262 249 132 137  90  45  70  48 211 113 164  50 142 265\n",
      "  88 186 144 224  95  24 158  74 140 163  75 229 209 264 219 232 151 256\n",
      " 231  87 116  65 188  42  13  33  41 220 146 100 261 125 152 127 143 243\n",
      "  66 260 181 195 112 129  10 226  25 255 244  12 168 230 189  97  82 190\n",
      "  52  49  61 145 223 202 228 179  36  40 159  80  17 167 208  69 254 213\n",
      " 193  77  37 225 171 106  93 247 165 117 212 250  14 157 198  83 169 136\n",
      " 217 173 123 160   3   1  76  89  22  39  86  18  28 252 227 135  91 124\n",
      "  38 216 119 205  81 122 194  92 133  35 134 177 215 147 248  63  47 210\n",
      " 197 201 131 200  56   5 130 191  85 218  51  46 149 241 139 235  71 102\n",
      "  62 174  72 182  11  29 183  67 155  54 196   8 175  55  53  64 180  34\n",
      "  60 120  44 257  78 207 242 184 153 185  15  19  26 258 121  57 203 101\n",
      " 126 128 154 206  23 192  21 108  96  94 259  16   9 178   6 222  98 221\n",
      " 150  73  20  32  31  58  27 245 214  30   2 156 172 253 240 111  59 118\n",
      " 105 109 176 115 187] \n",
      "\n",
      "Dropoff_Location [ 42 166  68 163 161  87 152 236 141 229  90 113  79 140 151 107   7 263\n",
      "  43  24 233 238  48 237 249 186  92 262 170  74  10 112   4  45 148  47\n",
      " 142 137 261 246  41  36 239 168 243  61 153 231 139 265 114  97 255 211\n",
      " 164 180 144 256  13 134 143 196 125  50 162 234  65 181  83  40 193 130\n",
      " 226 202  56  70  80  17  85 223 241 224 179  18 244 157 189 129  33 106\n",
      " 158 232 220 116  82  25 197 169  72  88  35  49  75 177 160 225 213 127\n",
      " 264 146  89  51 257 147 100 228  39 145 198  37  66  63 102 173 209 260\n",
      " 218 132   8 188  86  15  69  73 219 252  71  95  26 185 149 119 248 217\n",
      "  28  52 120 138 212 216  91 133 192 117  14  67  76 123  32  54 136 175\n",
      " 159 215 222  23 178  53 230 121  64  60  78  16  62 200 194   9 247 210\n",
      " 174 165 254  21 208  12 258 171 259 155  11  22 167 195  20  34 240  19\n",
      " 205 124 227 191 182   1  77  57  81 126 115 190 108 235 250  38  31  94\n",
      " 150 183  55 131 203 128 135   3 187 206 201 242  93  98   5  30 214  29\n",
      " 122 101   2  44   6  58  27 154 111 109  96 251 207 184 118 172 156 204\n",
      " 221  46 253  59  99 176 245  84 105] \n",
      "\n",
      "Passenger_count [1 2 4 3 5 0] \n",
      "\n",
      "Fare [13.3  10.56 11.8  ... 11.24 64.97 41.18] \n",
      "\n"
     ]
    }
   ],
   "source": [
    "for col in df:\n",
    "    print(col, df[col].unique(), \"\\n\")"
   ]
  },
  {
   "cell_type": "code",
   "execution_count": 22,
   "id": "44f16ae9",
   "metadata": {
    "scrolled": false
   },
   "outputs": [],
   "source": [
    "df = df.dropna()"
   ]
  },
  {
   "cell_type": "code",
   "execution_count": 23,
   "id": "49f482f3",
   "metadata": {},
   "outputs": [
    {
     "data": {
      "text/plain": [
       "(2463930, 4)"
      ]
     },
     "execution_count": 23,
     "metadata": {},
     "output_type": "execute_result"
    }
   ],
   "source": [
    "df.shape"
   ]
  },
  {
   "cell_type": "code",
   "execution_count": 24,
   "id": "c4db2948",
   "metadata": {
    "scrolled": false
   },
   "outputs": [
    {
     "name": "stdout",
     "output_type": "stream",
     "text": [
      "<class 'pandas.core.frame.DataFrame'>\n",
      "RangeIndex: 2463930 entries, 0 to 2463929\n",
      "Data columns (total 4 columns):\n",
      " #   Column            Dtype  \n",
      "---  ------            -----  \n",
      " 0   Pickup_Location   int64  \n",
      " 1   Dropoff_Location  int64  \n",
      " 2   Passenger_count   int64  \n",
      " 3   Fare              float64\n",
      "dtypes: float64(1), int64(3)\n",
      "memory usage: 75.2 MB\n"
     ]
    }
   ],
   "source": [
    "df.info()"
   ]
  },
  {
   "cell_type": "code",
   "execution_count": 25,
   "id": "c30c1637",
   "metadata": {
    "scrolled": false
   },
   "outputs": [
    {
     "data": {
      "text/html": [
       "<div>\n",
       "<style scoped>\n",
       "    .dataframe tbody tr th:only-of-type {\n",
       "        vertical-align: middle;\n",
       "    }\n",
       "\n",
       "    .dataframe tbody tr th {\n",
       "        vertical-align: top;\n",
       "    }\n",
       "\n",
       "    .dataframe thead th {\n",
       "        text-align: right;\n",
       "    }\n",
       "</style>\n",
       "<table border=\"1\" class=\"dataframe\">\n",
       "  <thead>\n",
       "    <tr style=\"text-align: right;\">\n",
       "      <th></th>\n",
       "      <th>Pickup_Location</th>\n",
       "      <th>Dropoff_Location</th>\n",
       "      <th>Passenger_count</th>\n",
       "      <th>Fare</th>\n",
       "    </tr>\n",
       "  </thead>\n",
       "  <tbody>\n",
       "    <tr>\n",
       "      <th>count</th>\n",
       "      <td>2.463930e+06</td>\n",
       "      <td>2.463930e+06</td>\n",
       "      <td>2.463930e+06</td>\n",
       "      <td>2.463930e+06</td>\n",
       "    </tr>\n",
       "    <tr>\n",
       "      <th>mean</th>\n",
       "      <td>1.660768e+02</td>\n",
       "      <td>1.635807e+02</td>\n",
       "      <td>1.194449e+00</td>\n",
       "      <td>1.916937e+01</td>\n",
       "    </tr>\n",
       "    <tr>\n",
       "      <th>std</th>\n",
       "      <td>6.546807e+01</td>\n",
       "      <td>7.079016e+01</td>\n",
       "      <td>5.001779e-01</td>\n",
       "      <td>2.559641e+02</td>\n",
       "    </tr>\n",
       "    <tr>\n",
       "      <th>min</th>\n",
       "      <td>1.000000e+00</td>\n",
       "      <td>1.000000e+00</td>\n",
       "      <td>0.000000e+00</td>\n",
       "      <td>-4.803000e+02</td>\n",
       "    </tr>\n",
       "    <tr>\n",
       "      <th>25%</th>\n",
       "      <td>1.320000e+02</td>\n",
       "      <td>1.130000e+02</td>\n",
       "      <td>1.000000e+00</td>\n",
       "      <td>1.130000e+01</td>\n",
       "    </tr>\n",
       "    <tr>\n",
       "      <th>50%</th>\n",
       "      <td>1.620000e+02</td>\n",
       "      <td>1.620000e+02</td>\n",
       "      <td>1.000000e+00</td>\n",
       "      <td>1.469000e+01</td>\n",
       "    </tr>\n",
       "    <tr>\n",
       "      <th>75%</th>\n",
       "      <td>2.340000e+02</td>\n",
       "      <td>2.360000e+02</td>\n",
       "      <td>1.000000e+00</td>\n",
       "      <td>2.002000e+01</td>\n",
       "    </tr>\n",
       "    <tr>\n",
       "      <th>max</th>\n",
       "      <td>2.650000e+02</td>\n",
       "      <td>2.650000e+02</td>\n",
       "      <td>5.000000e+00</td>\n",
       "      <td>4.010956e+05</td>\n",
       "    </tr>\n",
       "  </tbody>\n",
       "</table>\n",
       "</div>"
      ],
      "text/plain": [
       "       Pickup_Location  Dropoff_Location  Passenger_count          Fare\n",
       "count     2.463930e+06      2.463930e+06     2.463930e+06  2.463930e+06\n",
       "mean      1.660768e+02      1.635807e+02     1.194449e+00  1.916937e+01\n",
       "std       6.546807e+01      7.079016e+01     5.001779e-01  2.559641e+02\n",
       "min       1.000000e+00      1.000000e+00     0.000000e+00 -4.803000e+02\n",
       "25%       1.320000e+02      1.130000e+02     1.000000e+00  1.130000e+01\n",
       "50%       1.620000e+02      1.620000e+02     1.000000e+00  1.469000e+01\n",
       "75%       2.340000e+02      2.360000e+02     1.000000e+00  2.002000e+01\n",
       "max       2.650000e+02      2.650000e+02     5.000000e+00  4.010956e+05"
      ]
     },
     "execution_count": 25,
     "metadata": {},
     "output_type": "execute_result"
    }
   ],
   "source": [
    "df.describe()"
   ]
  },
  {
   "cell_type": "code",
   "execution_count": 26,
   "id": "57dae86b",
   "metadata": {},
   "outputs": [
    {
     "data": {
      "text/plain": [
       "array([1, 2, 4, 3, 5, 0], dtype=int64)"
      ]
     },
     "execution_count": 26,
     "metadata": {},
     "output_type": "execute_result"
    }
   ],
   "source": [
    "df.Passenger_count.unique()"
   ]
  },
  {
   "cell_type": "code",
   "execution_count": 27,
   "id": "d75fbaa2",
   "metadata": {
    "scrolled": false
   },
   "outputs": [
    {
     "data": {
      "text/html": [
       "<div>\n",
       "<style scoped>\n",
       "    .dataframe tbody tr th:only-of-type {\n",
       "        vertical-align: middle;\n",
       "    }\n",
       "\n",
       "    .dataframe tbody tr th {\n",
       "        vertical-align: top;\n",
       "    }\n",
       "\n",
       "    .dataframe thead th {\n",
       "        text-align: right;\n",
       "    }\n",
       "</style>\n",
       "<table border=\"1\" class=\"dataframe\">\n",
       "  <thead>\n",
       "    <tr style=\"text-align: right;\">\n",
       "      <th></th>\n",
       "      <th>Pickup_Location</th>\n",
       "      <th>Dropoff_Location</th>\n",
       "      <th>Passenger_count</th>\n",
       "      <th>Fare</th>\n",
       "    </tr>\n",
       "  </thead>\n",
       "  <tbody>\n",
       "    <tr>\n",
       "      <th>2392427</th>\n",
       "      <td>68</td>\n",
       "      <td>246</td>\n",
       "      <td>0</td>\n",
       "      <td>18.25</td>\n",
       "    </tr>\n",
       "    <tr>\n",
       "      <th>2392428</th>\n",
       "      <td>257</td>\n",
       "      <td>223</td>\n",
       "      <td>0</td>\n",
       "      <td>55.72</td>\n",
       "    </tr>\n",
       "    <tr>\n",
       "      <th>2392429</th>\n",
       "      <td>143</td>\n",
       "      <td>236</td>\n",
       "      <td>0</td>\n",
       "      <td>20.04</td>\n",
       "    </tr>\n",
       "    <tr>\n",
       "      <th>2392430</th>\n",
       "      <td>143</td>\n",
       "      <td>262</td>\n",
       "      <td>0</td>\n",
       "      <td>21.21</td>\n",
       "    </tr>\n",
       "    <tr>\n",
       "      <th>2392431</th>\n",
       "      <td>239</td>\n",
       "      <td>166</td>\n",
       "      <td>0</td>\n",
       "      <td>21.75</td>\n",
       "    </tr>\n",
       "    <tr>\n",
       "      <th>...</th>\n",
       "      <td>...</td>\n",
       "      <td>...</td>\n",
       "      <td>...</td>\n",
       "      <td>...</td>\n",
       "    </tr>\n",
       "    <tr>\n",
       "      <th>2463925</th>\n",
       "      <td>90</td>\n",
       "      <td>170</td>\n",
       "      <td>0</td>\n",
       "      <td>13.69</td>\n",
       "    </tr>\n",
       "    <tr>\n",
       "      <th>2463926</th>\n",
       "      <td>107</td>\n",
       "      <td>75</td>\n",
       "      <td>0</td>\n",
       "      <td>24.45</td>\n",
       "    </tr>\n",
       "    <tr>\n",
       "      <th>2463927</th>\n",
       "      <td>113</td>\n",
       "      <td>246</td>\n",
       "      <td>0</td>\n",
       "      <td>16.52</td>\n",
       "    </tr>\n",
       "    <tr>\n",
       "      <th>2463928</th>\n",
       "      <td>148</td>\n",
       "      <td>164</td>\n",
       "      <td>0</td>\n",
       "      <td>15.70</td>\n",
       "    </tr>\n",
       "    <tr>\n",
       "      <th>2463929</th>\n",
       "      <td>186</td>\n",
       "      <td>181</td>\n",
       "      <td>0</td>\n",
       "      <td>35.06</td>\n",
       "    </tr>\n",
       "  </tbody>\n",
       "</table>\n",
       "<p>71503 rows × 4 columns</p>\n",
       "</div>"
      ],
      "text/plain": [
       "         Pickup_Location  Dropoff_Location  Passenger_count   Fare\n",
       "2392427               68               246                0  18.25\n",
       "2392428              257               223                0  55.72\n",
       "2392429              143               236                0  20.04\n",
       "2392430              143               262                0  21.21\n",
       "2392431              239               166                0  21.75\n",
       "...                  ...               ...              ...    ...\n",
       "2463925               90               170                0  13.69\n",
       "2463926              107                75                0  24.45\n",
       "2463927              113               246                0  16.52\n",
       "2463928              148               164                0  15.70\n",
       "2463929              186               181                0  35.06\n",
       "\n",
       "[71503 rows x 4 columns]"
      ]
     },
     "execution_count": 27,
     "metadata": {},
     "output_type": "execute_result"
    }
   ],
   "source": [
    "df.loc[df['Passenger_count'] == 0]"
   ]
  },
  {
   "cell_type": "code",
   "execution_count": 28,
   "id": "fc211710",
   "metadata": {},
   "outputs": [],
   "source": [
    "ind = df.loc[df['Passenger_count'] == 0].index\n",
    "df.drop(ind , inplace=True)"
   ]
  },
  {
   "cell_type": "code",
   "execution_count": 29,
   "id": "ceed063c",
   "metadata": {},
   "outputs": [
    {
     "data": {
      "text/plain": [
       "array([1, 2, 4, 3, 5], dtype=int64)"
      ]
     },
     "execution_count": 29,
     "metadata": {},
     "output_type": "execute_result"
    }
   ],
   "source": [
    "df.Passenger_count.unique()"
   ]
  },
  {
   "cell_type": "code",
   "execution_count": 30,
   "id": "009a78f1",
   "metadata": {
    "scrolled": true
   },
   "outputs": [
    {
     "data": {
      "text/plain": [
       "Pickup_Location     2392427\n",
       "Dropoff_Location    2392427\n",
       "Passenger_count     2392427\n",
       "Fare                2392427\n",
       "dtype: int64"
      ]
     },
     "execution_count": 30,
     "metadata": {},
     "output_type": "execute_result"
    }
   ],
   "source": [
    "df.count()"
   ]
  },
  {
   "cell_type": "code",
   "execution_count": 31,
   "id": "58eb9ca9",
   "metadata": {
    "scrolled": true
   },
   "outputs": [
    {
     "data": {
      "text/plain": [
       "256"
      ]
     },
     "execution_count": 31,
     "metadata": {},
     "output_type": "execute_result"
    }
   ],
   "source": [
    "df.Pickup_Location.nunique()"
   ]
  },
  {
   "cell_type": "code",
   "execution_count": 32,
   "id": "a8123c4b",
   "metadata": {},
   "outputs": [
    {
     "data": {
      "text/plain": [
       "261"
      ]
     },
     "execution_count": 32,
     "metadata": {},
     "output_type": "execute_result"
    }
   ],
   "source": [
    "df.Dropoff_Location.nunique()"
   ]
  },
  {
   "cell_type": "code",
   "execution_count": 33,
   "id": "b23af0cf",
   "metadata": {
    "scrolled": false
   },
   "outputs": [
    {
     "name": "stdout",
     "output_type": "stream",
     "text": [
      "Pickup_Location [236 166 114  68 138 233 238 141 234 246  43 239 148 237   7 107 263 161\n",
      "  79 170 162   4 262 249 132 137  90  45  70  48 211 113 164  50 142 265\n",
      "  88 186 144 224  95  24 158  74 140 163  75 229 209 264 219 232 151 256\n",
      " 231  87 116  65 188  42  13  33  41 220 146 100 261 125 152 127 143 243\n",
      "  66 260 181 195 112 129  10 226  25 255 244  12 168 230 189  97  82 190\n",
      "  52  49  61 145 223 202 228 179  36  40 159  80  17 167 208  69 254 213\n",
      " 193  77  37 225 171 106  93 247 165 117 212 250  14 157 198  83 169 136\n",
      " 217 173 123 160   3   1  76  89  22  39  86  18  28 252 227 135  91 124\n",
      "  38 216 119 205  81 122 194  92 133  35 134 177 215 147 248  63  47 210\n",
      " 197 201 131 200  56   5 130 191  85 218  51  46 149 241 139 235  71 102\n",
      "  62 174  72 182  11  29 183  67 155  54 196   8 175  55  53  64 180  34\n",
      "  60 120  44 257  78 207 242 184 153 185  15  19  26 258 121  57 203 101\n",
      " 126 128 154 206  23 192  21 108  96  94 259  16   9 178   6 222  98 221\n",
      " 150  73  20  32  31  58  27 245 214  30   2 156 172 253 240 111  59 118\n",
      " 105 109 176 115] \n",
      "\n",
      "Dropoff_Location [ 42 166  68 163 161  87 152 236 141 229  90 113  79 140 151 107   7 263\n",
      "  43  24 233 238  48 237 249 186  92 262 170  74  10 112   4  45 148  47\n",
      " 142 137 261 246  41  36 239 168 243  61 153 231 139 265 114  97 255 211\n",
      " 164 180 144 256  13 134 143 196 125  50 162 234  65 181  83  40 193 130\n",
      " 226 202  56  70  80  17  85 223 241 224 179  18 244 157 189 129  33 106\n",
      " 158 232 220 116  82  25 197 169  72  88  35  49  75 177 160 225 213 127\n",
      " 264 146  89  51 257 147 100 228  39 145 198  37  66  63 102 173 209 260\n",
      " 218 132   8 188  86  15  69  73 219 252  71  95  26 185 149 119 248 217\n",
      "  28  52 120 138 212 216  91 133 192 117  14  67  76 123  32  54 136 175\n",
      " 159 215 222  23 178  53 230 121  64  60  78  16  62 200 194   9 247 210\n",
      " 174 165 254  21 208  12 258 171 259 155  11  22 167 195  20  34 240  19\n",
      " 205 124 227 191 182   1  77  57  81 126 115 190 108 235 250  38  31  94\n",
      " 150 183  55 131 203 128 135   3 187 206 201 242  93  98   5  30 214  29\n",
      " 122 101   2  44   6  58  27 154 111 109  96 251 207 184 118 172 156 204\n",
      " 221  46 253  59  99 176 245  84 105] \n",
      "\n",
      "Passenger_count [1 2 4 3 5] \n",
      "\n",
      "Fare [ 13.3   10.56  11.8  ...  36.83  51.01 148.81] \n",
      "\n"
     ]
    }
   ],
   "source": [
    "for col in df:\n",
    "    print(col, df[col].unique(), \"\\n\")"
   ]
  },
  {
   "cell_type": "code",
   "execution_count": 34,
   "id": "fb65b5bd",
   "metadata": {},
   "outputs": [
    {
     "data": {
      "text/plain": [
       "(2392427, 4)"
      ]
     },
     "execution_count": 34,
     "metadata": {},
     "output_type": "execute_result"
    }
   ],
   "source": [
    "df.shape"
   ]
  },
  {
   "cell_type": "code",
   "execution_count": 35,
   "id": "e2eef098",
   "metadata": {},
   "outputs": [
    {
     "data": {
      "text/html": [
       "<div>\n",
       "<style scoped>\n",
       "    .dataframe tbody tr th:only-of-type {\n",
       "        vertical-align: middle;\n",
       "    }\n",
       "\n",
       "    .dataframe tbody tr th {\n",
       "        vertical-align: top;\n",
       "    }\n",
       "\n",
       "    .dataframe thead th {\n",
       "        text-align: right;\n",
       "    }\n",
       "</style>\n",
       "<table border=\"1\" class=\"dataframe\">\n",
       "  <thead>\n",
       "    <tr style=\"text-align: right;\">\n",
       "      <th></th>\n",
       "      <th>Pickup_Location</th>\n",
       "      <th>Dropoff_Location</th>\n",
       "      <th>Passenger_count</th>\n",
       "      <th>Fare</th>\n",
       "    </tr>\n",
       "  </thead>\n",
       "  <tbody>\n",
       "    <tr>\n",
       "      <th>153</th>\n",
       "      <td>132</td>\n",
       "      <td>265</td>\n",
       "      <td>4</td>\n",
       "      <td>-23.55</td>\n",
       "    </tr>\n",
       "    <tr>\n",
       "      <th>520</th>\n",
       "      <td>152</td>\n",
       "      <td>48</td>\n",
       "      <td>4</td>\n",
       "      <td>-20.80</td>\n",
       "    </tr>\n",
       "    <tr>\n",
       "      <th>522</th>\n",
       "      <td>50</td>\n",
       "      <td>265</td>\n",
       "      <td>2</td>\n",
       "      <td>-77.80</td>\n",
       "    </tr>\n",
       "    <tr>\n",
       "      <th>579</th>\n",
       "      <td>90</td>\n",
       "      <td>234</td>\n",
       "      <td>2</td>\n",
       "      <td>-7.80</td>\n",
       "    </tr>\n",
       "    <tr>\n",
       "      <th>713</th>\n",
       "      <td>13</td>\n",
       "      <td>246</td>\n",
       "      <td>4</td>\n",
       "      <td>-15.80</td>\n",
       "    </tr>\n",
       "    <tr>\n",
       "      <th>...</th>\n",
       "      <td>...</td>\n",
       "      <td>...</td>\n",
       "      <td>...</td>\n",
       "      <td>...</td>\n",
       "    </tr>\n",
       "    <tr>\n",
       "      <th>2392068</th>\n",
       "      <td>186</td>\n",
       "      <td>186</td>\n",
       "      <td>4</td>\n",
       "      <td>-7.30</td>\n",
       "    </tr>\n",
       "    <tr>\n",
       "      <th>2392212</th>\n",
       "      <td>249</td>\n",
       "      <td>79</td>\n",
       "      <td>4</td>\n",
       "      <td>-10.30</td>\n",
       "    </tr>\n",
       "    <tr>\n",
       "      <th>2392249</th>\n",
       "      <td>90</td>\n",
       "      <td>90</td>\n",
       "      <td>4</td>\n",
       "      <td>-6.80</td>\n",
       "    </tr>\n",
       "    <tr>\n",
       "      <th>2392292</th>\n",
       "      <td>50</td>\n",
       "      <td>48</td>\n",
       "      <td>4</td>\n",
       "      <td>-7.30</td>\n",
       "    </tr>\n",
       "    <tr>\n",
       "      <th>2392336</th>\n",
       "      <td>141</td>\n",
       "      <td>24</td>\n",
       "      <td>4</td>\n",
       "      <td>-15.80</td>\n",
       "    </tr>\n",
       "  </tbody>\n",
       "</table>\n",
       "<p>12897 rows × 4 columns</p>\n",
       "</div>"
      ],
      "text/plain": [
       "         Pickup_Location  Dropoff_Location  Passenger_count   Fare\n",
       "153                  132               265                4 -23.55\n",
       "520                  152                48                4 -20.80\n",
       "522                   50               265                2 -77.80\n",
       "579                   90               234                2  -7.80\n",
       "713                   13               246                4 -15.80\n",
       "...                  ...               ...              ...    ...\n",
       "2392068              186               186                4  -7.30\n",
       "2392212              249                79                4 -10.30\n",
       "2392249               90                90                4  -6.80\n",
       "2392292               50                48                4  -7.30\n",
       "2392336              141                24                4 -15.80\n",
       "\n",
       "[12897 rows x 4 columns]"
      ]
     },
     "execution_count": 35,
     "metadata": {},
     "output_type": "execute_result"
    }
   ],
   "source": [
    "df.loc[df['Fare'] < 0]"
   ]
  },
  {
   "cell_type": "code",
   "execution_count": 36,
   "id": "32866fdc",
   "metadata": {},
   "outputs": [],
   "source": [
    "ind = df.loc[df['Fare'] < 0].index\n",
    "df.drop(ind , inplace=True)"
   ]
  },
  {
   "cell_type": "code",
   "execution_count": 37,
   "id": "b3a3f807",
   "metadata": {},
   "outputs": [
    {
     "data": {
      "text/plain": [
       "(2379530, 4)"
      ]
     },
     "execution_count": 37,
     "metadata": {},
     "output_type": "execute_result"
    }
   ],
   "source": [
    "df.shape"
   ]
  },
  {
   "cell_type": "code",
   "execution_count": 38,
   "id": "d4bf1c87",
   "metadata": {
    "scrolled": true
   },
   "outputs": [
    {
     "data": {
      "text/html": [
       "<div>\n",
       "<style scoped>\n",
       "    .dataframe tbody tr th:only-of-type {\n",
       "        vertical-align: middle;\n",
       "    }\n",
       "\n",
       "    .dataframe tbody tr th {\n",
       "        vertical-align: top;\n",
       "    }\n",
       "\n",
       "    .dataframe thead th {\n",
       "        text-align: right;\n",
       "    }\n",
       "</style>\n",
       "<table border=\"1\" class=\"dataframe\">\n",
       "  <thead>\n",
       "    <tr style=\"text-align: right;\">\n",
       "      <th></th>\n",
       "      <th>Pickup_Location</th>\n",
       "      <th>Dropoff_Location</th>\n",
       "      <th>Passenger_count</th>\n",
       "      <th>Fare</th>\n",
       "    </tr>\n",
       "  </thead>\n",
       "  <tbody>\n",
       "  </tbody>\n",
       "</table>\n",
       "</div>"
      ],
      "text/plain": [
       "Empty DataFrame\n",
       "Columns: [Pickup_Location, Dropoff_Location, Passenger_count, Fare]\n",
       "Index: []"
      ]
     },
     "execution_count": 38,
     "metadata": {},
     "output_type": "execute_result"
    }
   ],
   "source": [
    "df.loc[df['Fare'] < 0]"
   ]
  },
  {
   "cell_type": "code",
   "execution_count": 39,
   "id": "a058d43f",
   "metadata": {
    "scrolled": true
   },
   "outputs": [
    {
     "data": {
      "text/plain": [
       "256"
      ]
     },
     "execution_count": 39,
     "metadata": {},
     "output_type": "execute_result"
    }
   ],
   "source": [
    "df.Pickup_Location.nunique()"
   ]
  },
  {
   "cell_type": "code",
   "execution_count": 40,
   "id": "d00d2a5e",
   "metadata": {},
   "outputs": [
    {
     "data": {
      "text/plain": [
       "261"
      ]
     },
     "execution_count": 40,
     "metadata": {},
     "output_type": "execute_result"
    }
   ],
   "source": [
    "df.Dropoff_Location.nunique()"
   ]
  },
  {
   "cell_type": "code",
   "execution_count": 41,
   "id": "a6b6a94d",
   "metadata": {},
   "outputs": [
    {
     "data": {
      "text/plain": [
       "45719103.43999997"
      ]
     },
     "execution_count": 41,
     "metadata": {},
     "output_type": "execute_result"
    }
   ],
   "source": [
    "df.Fare.sum()"
   ]
  },
  {
   "cell_type": "code",
   "execution_count": 42,
   "id": "628219a7",
   "metadata": {},
   "outputs": [
    {
     "data": {
      "text/plain": [
       "237    119057\n",
       "236    117603\n",
       "132    102419\n",
       "161     86491\n",
       "186     79317\n",
       "        ...  \n",
       "59          1\n",
       "27          1\n",
       "105         1\n",
       "176         1\n",
       "115         1\n",
       "Name: Pickup_Location, Length: 256, dtype: int64"
      ]
     },
     "execution_count": 42,
     "metadata": {},
     "output_type": "execute_result"
    }
   ],
   "source": [
    "x = df['Pickup_Location'].value_counts()\n",
    "x"
   ]
  },
  {
   "cell_type": "code",
   "execution_count": 43,
   "id": "a1cf2fe9",
   "metadata": {
    "scrolled": true
   },
   "outputs": [
    {
     "data": {
      "text/plain": [
       "237    119057\n",
       "236    117603\n",
       "132    102419\n",
       "161     86491\n",
       "186     79317\n",
       "142     78065\n",
       "141     75125\n",
       "48      74575\n",
       "170     73532\n",
       "162     73122\n",
       "Name: Pickup_Location, dtype: int64"
      ]
     },
     "execution_count": 43,
     "metadata": {},
     "output_type": "execute_result"
    }
   ],
   "source": [
    "# for yellow trip\n",
    "x_1 = x.head(10)\n",
    "x_1"
   ]
  },
  {
   "cell_type": "code",
   "execution_count": 45,
   "id": "2b9db590",
   "metadata": {},
   "outputs": [
    {
     "data": {
      "text/plain": [
       "2379530"
      ]
     },
     "execution_count": 45,
     "metadata": {},
     "output_type": "execute_result"
    }
   ],
   "source": [
    "x.sum()"
   ]
  },
  {
   "cell_type": "code",
   "execution_count": 46,
   "id": "abd05c94",
   "metadata": {
    "scrolled": false
   },
   "outputs": [
    {
     "data": {
      "text/plain": [
       "37         1\n",
       "39         2\n",
       "40         1\n",
       "47         1\n",
       "48         1\n",
       "          ..\n",
       "2392371    1\n",
       "2392372    2\n",
       "2392373    1\n",
       "2392397    1\n",
       "2392413    2\n",
       "Name: Passenger_count, Length: 102419, dtype: int64"
      ]
     },
     "execution_count": 46,
     "metadata": {},
     "output_type": "execute_result"
    }
   ],
   "source": [
    "df[df['Pickup_Location'] == 132].Passenger_count"
   ]
  },
  {
   "cell_type": "code",
   "execution_count": 47,
   "id": "b9b21ec7",
   "metadata": {
    "scrolled": true
   },
   "outputs": [
    {
     "data": {
      "text/plain": [
       "134240"
      ]
     },
     "execution_count": 47,
     "metadata": {},
     "output_type": "execute_result"
    }
   ],
   "source": [
    "df[df['Pickup_Location'] == 132].Passenger_count.sum()"
   ]
  },
  {
   "cell_type": "code",
   "execution_count": 1,
   "id": "64563b3e",
   "metadata": {},
   "outputs": [],
   "source": [
    "# considering Demand and Supply as symmetric. We will take average of Pickup cabs at a location and Dropoff cabs at same location."
   ]
  },
  {
   "cell_type": "code",
   "execution_count": 49,
   "id": "e6f5b955",
   "metadata": {},
   "outputs": [
    {
     "data": {
      "text/plain": [
       "Pickup_Location  Dropoff_Location  Passenger_count  Fare \n",
       "237              237               1                9.96     534\n",
       "                                                    9.36     482\n",
       "                                                    10.56    469\n",
       "                                   2                7.80     457\n",
       "                                                    8.30     433\n",
       "                                                            ... \n",
       "                                   1                21.19      1\n",
       "                                                    21.23      1\n",
       "                                                    21.60      1\n",
       "                                                    21.78      1\n",
       "                                   4                59.80      1\n",
       "Length: 526, dtype: int64"
      ]
     },
     "execution_count": 49,
     "metadata": {},
     "output_type": "execute_result"
    }
   ],
   "source": [
    "df[(df['Pickup_Location'] == 237) & (df['Dropoff_Location'] == 237)].value_counts()"
   ]
  },
  {
   "cell_type": "code",
   "execution_count": 50,
   "id": "189cdef1",
   "metadata": {},
   "outputs": [
    {
     "data": {
      "text/plain": [
       "237    119057\n",
       "236    117603\n",
       "132    102419\n",
       "161     86491\n",
       "186     79317\n",
       "142     78065\n",
       "141     75125\n",
       "48      74575\n",
       "170     73532\n",
       "162     73122\n",
       "Name: Pickup_Location, dtype: int64"
      ]
     },
     "execution_count": 50,
     "metadata": {},
     "output_type": "execute_result"
    }
   ],
   "source": [
    "x_1"
   ]
  },
  {
   "cell_type": "code",
   "execution_count": 51,
   "id": "351f186d",
   "metadata": {},
   "outputs": [
    {
     "data": {
      "text/plain": [
       "{237: 119057,\n",
       " 236: 117603,\n",
       " 132: 102419,\n",
       " 161: 86491,\n",
       " 186: 79317,\n",
       " 142: 78065,\n",
       " 141: 75125,\n",
       " 48: 74575,\n",
       " 170: 73532,\n",
       " 162: 73122}"
      ]
     },
     "execution_count": 51,
     "metadata": {},
     "output_type": "execute_result"
    }
   ],
   "source": [
    "dict(x_1)"
   ]
  },
  {
   "cell_type": "code",
   "execution_count": 52,
   "id": "75bd9778",
   "metadata": {
    "scrolled": true
   },
   "outputs": [
    {
     "data": {
      "text/plain": [
       "\"demand = {}\\nfor j in x_1.index:\\n    demand[j] = df[df['Pickup_Location'] == j].Passenger_count.sum()\\n\\ntemp = sorted(demand.items(), key=lambda f:f[1], reverse=True)\\ntemp = dict(temp)\\ndemand = temp\""
      ]
     },
     "execution_count": 52,
     "metadata": {},
     "output_type": "execute_result"
    }
   ],
   "source": [
    "# previous logic when we thought that Demand is consisted of the passengers\n",
    "'''demand = {}\n",
    "for j in x_1.index:\n",
    "    demand[j] = df[df['Pickup_Location'] == j].Passenger_count.sum()\n",
    "\n",
    "temp = sorted(demand.items(), key=lambda f:f[1], reverse=True)\n",
    "temp = dict(temp)\n",
    "demand = temp'''"
   ]
  },
  {
   "cell_type": "code",
   "execution_count": 53,
   "id": "bcf3f163",
   "metadata": {},
   "outputs": [],
   "source": [
    "# New logic, in which we just take the cars as the demand\n",
    "demand = dict(x_1)"
   ]
  },
  {
   "cell_type": "code",
   "execution_count": 54,
   "id": "4caf3b9f",
   "metadata": {
    "scrolled": true
   },
   "outputs": [
    {
     "data": {
      "text/plain": [
       "{237: 119057,\n",
       " 236: 117603,\n",
       " 132: 102419,\n",
       " 161: 86491,\n",
       " 186: 79317,\n",
       " 142: 78065,\n",
       " 141: 75125,\n",
       " 48: 74575,\n",
       " 170: 73532,\n",
       " 162: 73122}"
      ]
     },
     "execution_count": 54,
     "metadata": {},
     "output_type": "execute_result"
    }
   ],
   "source": [
    "demand"
   ]
  },
  {
   "cell_type": "code",
   "execution_count": 55,
   "id": "c811a057",
   "metadata": {
    "scrolled": false
   },
   "outputs": [
    {
     "data": {
      "text/plain": [
       "236    120023\n",
       "237    103632\n",
       "141     76175\n",
       "239     72693\n",
       "161     72577\n",
       "        ...  \n",
       "187        10\n",
       "204         8\n",
       "2           5\n",
       "105         2\n",
       "99          1\n",
       "Name: Dropoff_Location, Length: 261, dtype: int64"
      ]
     },
     "execution_count": 55,
     "metadata": {},
     "output_type": "execute_result"
    }
   ],
   "source": [
    "y = df['Dropoff_Location'].value_counts()\n",
    "y"
   ]
  },
  {
   "cell_type": "code",
   "execution_count": 57,
   "id": "5fc23bb4",
   "metadata": {},
   "outputs": [
    {
     "data": {
      "text/plain": [
       "Int64Index([237, 236, 132, 161, 186, 142, 141,  48, 170, 162,\n",
       "            ...\n",
       "            245,   2, 214, 206, 172,  59,  27, 105, 176, 115],\n",
       "           dtype='int64', length=256)"
      ]
     },
     "execution_count": 57,
     "metadata": {},
     "output_type": "execute_result"
    }
   ],
   "source": [
    "x.index"
   ]
  },
  {
   "cell_type": "code",
   "execution_count": 59,
   "id": "19997c8a",
   "metadata": {},
   "outputs": [
    {
     "data": {
      "text/html": [
       "<div>\n",
       "<style scoped>\n",
       "    .dataframe tbody tr th:only-of-type {\n",
       "        vertical-align: middle;\n",
       "    }\n",
       "\n",
       "    .dataframe tbody tr th {\n",
       "        vertical-align: top;\n",
       "    }\n",
       "\n",
       "    .dataframe thead th {\n",
       "        text-align: right;\n",
       "    }\n",
       "</style>\n",
       "<table border=\"1\" class=\"dataframe\">\n",
       "  <thead>\n",
       "    <tr style=\"text-align: right;\">\n",
       "      <th></th>\n",
       "      <th>Pickup_Location</th>\n",
       "      <th>Dropoff_Location</th>\n",
       "      <th>Passenger_count</th>\n",
       "      <th>Fare</th>\n",
       "    </tr>\n",
       "  </thead>\n",
       "  <tbody>\n",
       "    <tr>\n",
       "      <th>51268</th>\n",
       "      <td>166</td>\n",
       "      <td>95</td>\n",
       "      <td>1</td>\n",
       "      <td>45.35</td>\n",
       "    </tr>\n",
       "    <tr>\n",
       "      <th>591107</th>\n",
       "      <td>166</td>\n",
       "      <td>95</td>\n",
       "      <td>2</td>\n",
       "      <td>41.30</td>\n",
       "    </tr>\n",
       "    <tr>\n",
       "      <th>723524</th>\n",
       "      <td>166</td>\n",
       "      <td>95</td>\n",
       "      <td>1</td>\n",
       "      <td>50.00</td>\n",
       "    </tr>\n",
       "    <tr>\n",
       "      <th>1472983</th>\n",
       "      <td>166</td>\n",
       "      <td>95</td>\n",
       "      <td>2</td>\n",
       "      <td>45.80</td>\n",
       "    </tr>\n",
       "  </tbody>\n",
       "</table>\n",
       "</div>"
      ],
      "text/plain": [
       "         Pickup_Location  Dropoff_Location  Passenger_count   Fare\n",
       "51268                166                95                1  45.35\n",
       "591107               166                95                2  41.30\n",
       "723524               166                95                1  50.00\n",
       "1472983              166                95                2  45.80"
      ]
     },
     "execution_count": 59,
     "metadata": {},
     "output_type": "execute_result"
    }
   ],
   "source": [
    "df[(df['Pickup_Location'] == 166) & (df['Dropoff_Location'] == 95)]"
   ]
  },
  {
   "cell_type": "code",
   "execution_count": 60,
   "id": "57d0d497",
   "metadata": {},
   "outputs": [
    {
     "data": {
      "text/plain": [
       "2827"
      ]
     },
     "execution_count": 60,
     "metadata": {},
     "output_type": "execute_result"
    }
   ],
   "source": [
    "y[97]"
   ]
  },
  {
   "cell_type": "code",
   "execution_count": 61,
   "id": "0e3ce241",
   "metadata": {},
   "outputs": [
    {
     "data": {
      "text/html": [
       "<div>\n",
       "<style scoped>\n",
       "    .dataframe tbody tr th:only-of-type {\n",
       "        vertical-align: middle;\n",
       "    }\n",
       "\n",
       "    .dataframe tbody tr th {\n",
       "        vertical-align: top;\n",
       "    }\n",
       "\n",
       "    .dataframe thead th {\n",
       "        text-align: right;\n",
       "    }\n",
       "</style>\n",
       "<table border=\"1\" class=\"dataframe\">\n",
       "  <thead>\n",
       "    <tr style=\"text-align: right;\">\n",
       "      <th></th>\n",
       "      <th>Pickup_Location</th>\n",
       "      <th>Dropoff_Location</th>\n",
       "      <th>Passenger_count</th>\n",
       "      <th>Fare</th>\n",
       "    </tr>\n",
       "  </thead>\n",
       "  <tbody>\n",
       "    <tr>\n",
       "      <th>109</th>\n",
       "      <td>233</td>\n",
       "      <td>97</td>\n",
       "      <td>1</td>\n",
       "      <td>29.76</td>\n",
       "    </tr>\n",
       "    <tr>\n",
       "      <th>776</th>\n",
       "      <td>13</td>\n",
       "      <td>97</td>\n",
       "      <td>1</td>\n",
       "      <td>24.96</td>\n",
       "    </tr>\n",
       "    <tr>\n",
       "      <th>1386</th>\n",
       "      <td>132</td>\n",
       "      <td>97</td>\n",
       "      <td>1</td>\n",
       "      <td>63.65</td>\n",
       "    </tr>\n",
       "    <tr>\n",
       "      <th>2690</th>\n",
       "      <td>249</td>\n",
       "      <td>97</td>\n",
       "      <td>1</td>\n",
       "      <td>21.84</td>\n",
       "    </tr>\n",
       "    <tr>\n",
       "      <th>2726</th>\n",
       "      <td>209</td>\n",
       "      <td>97</td>\n",
       "      <td>1</td>\n",
       "      <td>19.80</td>\n",
       "    </tr>\n",
       "    <tr>\n",
       "      <th>...</th>\n",
       "      <td>...</td>\n",
       "      <td>...</td>\n",
       "      <td>...</td>\n",
       "      <td>...</td>\n",
       "    </tr>\n",
       "    <tr>\n",
       "      <th>2391605</th>\n",
       "      <td>170</td>\n",
       "      <td>97</td>\n",
       "      <td>1</td>\n",
       "      <td>32.80</td>\n",
       "    </tr>\n",
       "    <tr>\n",
       "      <th>2391887</th>\n",
       "      <td>186</td>\n",
       "      <td>97</td>\n",
       "      <td>1</td>\n",
       "      <td>42.25</td>\n",
       "    </tr>\n",
       "    <tr>\n",
       "      <th>2391918</th>\n",
       "      <td>65</td>\n",
       "      <td>97</td>\n",
       "      <td>2</td>\n",
       "      <td>7.30</td>\n",
       "    </tr>\n",
       "    <tr>\n",
       "      <th>2392151</th>\n",
       "      <td>132</td>\n",
       "      <td>97</td>\n",
       "      <td>1</td>\n",
       "      <td>59.81</td>\n",
       "    </tr>\n",
       "    <tr>\n",
       "      <th>2392203</th>\n",
       "      <td>107</td>\n",
       "      <td>97</td>\n",
       "      <td>1</td>\n",
       "      <td>21.38</td>\n",
       "    </tr>\n",
       "  </tbody>\n",
       "</table>\n",
       "<p>2827 rows × 4 columns</p>\n",
       "</div>"
      ],
      "text/plain": [
       "         Pickup_Location  Dropoff_Location  Passenger_count   Fare\n",
       "109                  233                97                1  29.76\n",
       "776                   13                97                1  24.96\n",
       "1386                 132                97                1  63.65\n",
       "2690                 249                97                1  21.84\n",
       "2726                 209                97                1  19.80\n",
       "...                  ...               ...              ...    ...\n",
       "2391605              170                97                1  32.80\n",
       "2391887              186                97                1  42.25\n",
       "2391918               65                97                2   7.30\n",
       "2392151              132                97                1  59.81\n",
       "2392203              107                97                1  21.38\n",
       "\n",
       "[2827 rows x 4 columns]"
      ]
     },
     "execution_count": 61,
     "metadata": {},
     "output_type": "execute_result"
    }
   ],
   "source": [
    "df.loc[df['Dropoff_Location'] == 97]"
   ]
  },
  {
   "cell_type": "code",
   "execution_count": 64,
   "id": "06a798af",
   "metadata": {},
   "outputs": [
    {
     "data": {
      "text/plain": [
       "20070"
      ]
     },
     "execution_count": 64,
     "metadata": {},
     "output_type": "execute_result"
    }
   ],
   "source": [
    "y[74]"
   ]
  },
  {
   "cell_type": "code",
   "execution_count": 65,
   "id": "e135b4a7",
   "metadata": {
    "scrolled": true
   },
   "outputs": [
    {
     "data": {
      "text/plain": [
       "236    120023\n",
       "237    103632\n",
       "141     76175\n",
       "239     72693\n",
       "161     72577\n",
       "170     71648\n",
       "142     68296\n",
       "48      66119\n",
       "238     63475\n",
       "263     59181\n",
       "Name: Dropoff_Location, dtype: int64"
      ]
     },
     "execution_count": 65,
     "metadata": {},
     "output_type": "execute_result"
    }
   ],
   "source": [
    "# for yellow trip\n",
    "y_1 = y.head(10)\n",
    "y_1"
   ]
  },
  {
   "cell_type": "code",
   "execution_count": 66,
   "id": "49b01f12",
   "metadata": {},
   "outputs": [
    {
     "data": {
      "text/plain": [
       "111344"
      ]
     },
     "execution_count": 66,
     "metadata": {},
     "output_type": "execute_result"
    }
   ],
   "source": [
    "# for yellow trip\n",
    "round((y[237] + x[237])/2)"
   ]
  },
  {
   "cell_type": "code",
   "execution_count": 67,
   "id": "313d6fa6",
   "metadata": {
    "scrolled": true
   },
   "outputs": [
    {
     "data": {
      "text/plain": [
       "{236: 118813,\n",
       " 237: 111344,\n",
       " 161: 79534,\n",
       " 141: 75650,\n",
       " 142: 73180,\n",
       " 239: 72762,\n",
       " 170: 72590,\n",
       " 48: 70347,\n",
       " 162: 64410,\n",
       " 186: 63090,\n",
       " 230: 61374,\n",
       " 238: 60549,\n",
       " 132: 60076,\n",
       " 263: 59810,\n",
       " 140: 58702,\n",
       " 234: 58459,\n",
       " 79: 57374,\n",
       " 163: 57372,\n",
       " 68: 56616,\n",
       " 229: 54949,\n",
       " 107: 54828,\n",
       " 249: 47171,\n",
       " 164: 44562,\n",
       " 262: 39780,\n",
       " 90: 38569,\n",
       " 138: 37481,\n",
       " 137: 36850,\n",
       " 143: 36781,\n",
       " 43: 35497,\n",
       " 100: 34770,\n",
       " 233: 32888,\n",
       " 246: 32708,\n",
       " 113: 30144,\n",
       " 231: 29490,\n",
       " 75: 28950,\n",
       " 114: 25659,\n",
       " 151: 25351,\n",
       " 50: 21858,\n",
       " 148: 20865,\n",
       " 264: 20251,\n",
       " 144: 18788,\n",
       " 158: 18336,\n",
       " 211: 17220,\n",
       " 166: 15194,\n",
       " 74: 13711,\n",
       " 41: 12741,\n",
       " 87: 11589,\n",
       " 13: 11509,\n",
       " 125: 9802,\n",
       " 24: 9152,\n",
       " 261: 8450,\n",
       " 42: 7156,\n",
       " 224: 7034,\n",
       " 232: 7016,\n",
       " 4: 6343,\n",
       " 88: 5410,\n",
       " 244: 5199,\n",
       " 7: 5020,\n",
       " 70: 5008,\n",
       " 116: 4766,\n",
       " 145: 4694,\n",
       " 265: 4204,\n",
       " 45: 3946,\n",
       " 209: 3904,\n",
       " 226: 3683,\n",
       " 33: 3252,\n",
       " 152: 3110,\n",
       " 181: 2842,\n",
       " 255: 2723,\n",
       " 256: 2714,\n",
       " 243: 2460,\n",
       " 112: 2402,\n",
       " 223: 2252,\n",
       " 129: 2211,\n",
       " 1: 2010,\n",
       " 25: 1934,\n",
       " 146: 1932,\n",
       " 65: 1922,\n",
       " 61: 1896,\n",
       " 193: 1874,\n",
       " 179: 1725,\n",
       " 97: 1712,\n",
       " 49: 1664,\n",
       " 17: 1544,\n",
       " 95: 1518,\n",
       " 80: 1507,\n",
       " 260: 1461,\n",
       " 37: 1446,\n",
       " 66: 1384,\n",
       " 10: 1264,\n",
       " 225: 1111,\n",
       " 40: 1047,\n",
       " 188: 1036,\n",
       " 168: 1014,\n",
       " 127: 1004,\n",
       " 189: 998,\n",
       " 216: 985,\n",
       " 89: 978,\n",
       " 82: 952,\n",
       " 52: 882,\n",
       " 36: 809,\n",
       " 14: 782,\n",
       " 12: 748,\n",
       " 76: 696,\n",
       " 130: 692,\n",
       " 217: 690,\n",
       " 202: 674,\n",
       " 92: 646,\n",
       " 198: 644,\n",
       " 62: 640,\n",
       " 69: 614,\n",
       " 228: 564,\n",
       " 219: 561,\n",
       " 247: 523,\n",
       " 197: 517,\n",
       " 220: 495,\n",
       " 39: 485,\n",
       " 196: 483,\n",
       " 159: 462,\n",
       " 205: 452,\n",
       " 26: 447,\n",
       " 157: 436,\n",
       " 134: 434,\n",
       " 28: 418,\n",
       " 257: 417,\n",
       " 56: 410,\n",
       " 165: 408,\n",
       " 106: 404,\n",
       " 160: 396,\n",
       " 135: 394,\n",
       " 200: 384,\n",
       " 91: 382,\n",
       " 119: 372,\n",
       " 83: 360,\n",
       " 218: 356,\n",
       " 72: 352,\n",
       " 173: 350,\n",
       " 215: 339,\n",
       " 86: 336,\n",
       " 213: 333,\n",
       " 133: 332,\n",
       " 177: 327,\n",
       " 35: 314,\n",
       " 51: 312,\n",
       " 71: 300,\n",
       " 38: 300,\n",
       " 235: 298,\n",
       " 242: 296,\n",
       " 155: 294,\n",
       " 258: 292,\n",
       " 241: 288,\n",
       " 191: 286,\n",
       " 169: 280,\n",
       " 123: 278,\n",
       " 167: 276,\n",
       " 121: 276,\n",
       " 63: 272,\n",
       " 131: 272,\n",
       " 93: 270,\n",
       " 22: 268,\n",
       " 254: 267,\n",
       " 195: 262,\n",
       " 210: 257,\n",
       " 18: 255,\n",
       " 124: 244,\n",
       " 139: 242,\n",
       " 203: 240,\n",
       " 136: 237,\n",
       " 252: 232,\n",
       " 55: 231,\n",
       " 85: 230,\n",
       " 182: 229,\n",
       " 78: 228,\n",
       " 54: 213,\n",
       " 149: 208,\n",
       " 190: 204,\n",
       " 207: 203,\n",
       " 174: 202,\n",
       " 227: 202,\n",
       " 102: 202,\n",
       " 117: 200,\n",
       " 16: 200,\n",
       " 53: 197,\n",
       " 259: 193,\n",
       " 171: 193,\n",
       " 185: 192,\n",
       " 47: 184,\n",
       " 29: 184,\n",
       " 208: 176,\n",
       " 77: 175,\n",
       " 248: 170,\n",
       " 21: 168,\n",
       " 64: 164,\n",
       " 212: 162,\n",
       " 67: 162,\n",
       " 250: 161,\n",
       " 147: 161,\n",
       " 126: 160,\n",
       " 20: 158,\n",
       " 98: 150,\n",
       " 34: 136,\n",
       " 108: 135,\n",
       " 178: 134,\n",
       " 180: 134,\n",
       " 222: 130,\n",
       " 194: 130,\n",
       " 19: 129,\n",
       " 101: 128,\n",
       " 15: 126,\n",
       " 32: 122,\n",
       " 94: 122,\n",
       " 175: 122,\n",
       " 183: 116,\n",
       " 81: 116,\n",
       " 60: 116,\n",
       " 201: 116,\n",
       " 192: 116,\n",
       " 3: 104,\n",
       " 150: 104,\n",
       " 73: 99,\n",
       " 9: 98,\n",
       " 122: 96,\n",
       " 11: 93,\n",
       " 120: 66,\n",
       " 23: 64,\n",
       " 128: 64,\n",
       " 153: 62,\n",
       " 31: 53,\n",
       " 240: 50,\n",
       " 8: 38,\n",
       " 58: 38,\n",
       " 5: 30,\n",
       " 96: 30,\n",
       " 44: 29,\n",
       " 206: 28,\n",
       " 57: 25,\n",
       " 221: 24,\n",
       " 46: 20,\n",
       " 214: 19,\n",
       " 118: 18,\n",
       " 27: 18,\n",
       " 6: 17,\n",
       " 156: 16,\n",
       " 115: 16,\n",
       " 253: 15,\n",
       " 154: 14,\n",
       " 245: 12,\n",
       " 109: 11,\n",
       " 184: 10,\n",
       " 30: 10,\n",
       " 172: 10,\n",
       " 59: 10,\n",
       " 111: 8,\n",
       " 176: 7,\n",
       " 2: 4,\n",
       " 105: 2}"
      ]
     },
     "execution_count": 67,
     "metadata": {},
     "output_type": "execute_result"
    }
   ],
   "source": [
    "# for yellow trip\n",
    "# this is the symmetric demand and supply\n",
    "dm_sp = {}\n",
    "for i in x.index:\n",
    "    temp = round((y[i] + x[i])/2)\n",
    "    dm_sp[i] = temp\n",
    "#print(dm_sp)\n",
    "temp = sorted(dm_sp.items(), key=lambda f:f[1], reverse=True)\n",
    "temp = dict(temp)\n",
    "dm_sp = temp\n",
    "dm_sp"
   ]
  },
  {
   "cell_type": "code",
   "execution_count": 69,
   "id": "05a70b75",
   "metadata": {
    "scrolled": true
   },
   "outputs": [
    {
     "data": {
      "text/plain": [
       "237    119057\n",
       "236    117603\n",
       "132    102419\n",
       "161     86491\n",
       "186     79317\n",
       "142     78065\n",
       "141     75125\n",
       "48      74575\n",
       "170     73532\n",
       "162     73122\n",
       "Name: Pickup_Location, dtype: int64"
      ]
     },
     "execution_count": 69,
     "metadata": {},
     "output_type": "execute_result"
    }
   ],
   "source": [
    "x_1"
   ]
  },
  {
   "cell_type": "code",
   "execution_count": 72,
   "id": "fd9b8033",
   "metadata": {},
   "outputs": [
    {
     "data": {
      "text/plain": [
       "{236: 118813,\n",
       " 237: 111344,\n",
       " 161: 79534,\n",
       " 141: 75650,\n",
       " 142: 73180,\n",
       " 239: 72762,\n",
       " 170: 72590,\n",
       " 48: 70347,\n",
       " 162: 64410,\n",
       " 186: 63090}"
      ]
     },
     "execution_count": 72,
     "metadata": {},
     "output_type": "execute_result"
    }
   ],
   "source": [
    "# taking top 10 locations\n",
    "temp = {}\n",
    "cnt = 0\n",
    "for i in dm_sp:\n",
    "    cnt += 1\n",
    "    if cnt > 10:\n",
    "        break\n",
    "    else:\n",
    "        temp[i] = dm_sp[i]\n",
    "dm_sp = temp   \n",
    "dm_sp   "
   ]
  },
  {
   "cell_type": "code",
   "execution_count": 73,
   "id": "4147068e",
   "metadata": {},
   "outputs": [
    {
     "data": {
      "text/plain": [
       "{236: 118813,\n",
       " 237: 111344,\n",
       " 161: 79534,\n",
       " 141: 75650,\n",
       " 142: 73180,\n",
       " 239: 72762,\n",
       " 170: 72590,\n",
       " 48: 70347,\n",
       " 162: 64410,\n",
       " 186: 63090}"
      ]
     },
     "execution_count": 73,
     "metadata": {},
     "output_type": "execute_result"
    }
   ],
   "source": [
    "temp = sorted(dm_sp.items(), key=lambda f:f[1], reverse=True)\n",
    "temp = dict(temp)\n",
    "dm_sp = temp\n",
    "dm_sp"
   ]
  },
  {
   "cell_type": "code",
   "execution_count": 74,
   "id": "9dfaf332",
   "metadata": {},
   "outputs": [
    {
     "name": "stdout",
     "output_type": "stream",
     "text": [
      "236\n",
      "237\n",
      "161\n",
      "141\n",
      "142\n",
      "239\n",
      "170\n",
      "48\n",
      "162\n",
      "186\n"
     ]
    }
   ],
   "source": [
    "# These are the top 10 locations\n",
    "for i in dm_sp:\n",
    "    print(i)"
   ]
  },
  {
   "cell_type": "code",
   "execution_count": 75,
   "id": "533feaa0",
   "metadata": {
    "scrolled": true
   },
   "outputs": [
    {
     "data": {
      "text/plain": [
       "{236: {236: 10.638030662124528,\n",
       "  237: 12.257933774833642,\n",
       "  161: 15.657458256030221,\n",
       "  141: 12.685652846535284,\n",
       "  142: 15.301967479675172,\n",
       "  239: 13.230947027764113,\n",
       "  170: 18.688371859296424,\n",
       "  48: 18.878950617283788,\n",
       "  162: 15.216397990911624,\n",
       "  186: 21.947662061636397},\n",
       " 237: {236: 11.60614685885125,\n",
       "  237: 10.701926946817503,\n",
       "  161: 11.99720842861861,\n",
       "  141: 10.771728760446155,\n",
       "  142: 13.103976595275242,\n",
       "  239: 14.920300153925368,\n",
       "  170: 14.188690437601391,\n",
       "  48: 15.439523506988362,\n",
       "  162: 11.566849951597666,\n",
       "  186: 17.836765873015647},\n",
       " 161: {236: 15.322200561995642,\n",
       "  237: 12.009473510480797,\n",
       "  161: 12.513746345029054,\n",
       "  141: 13.874979681150466,\n",
       "  142: 13.72346687211087,\n",
       "  239: 16.956265601597433,\n",
       "  170: 11.66308195592269,\n",
       "  48: 12.463729557239494,\n",
       "  162: 10.654867944070258,\n",
       "  186: 13.056966183574923},\n",
       " 141: {236: 11.584888947647391,\n",
       "  237: 10.64983507109044,\n",
       "  161: 14.03258813770203,\n",
       "  141: 10.858952306489856,\n",
       "  142: 14.762624584717422,\n",
       "  239: 15.796712166171917,\n",
       "  170: 15.056879227052924,\n",
       "  48: 17.23799366420261,\n",
       "  162: 12.783667443667232,\n",
       "  186: 19.68705188679232},\n",
       " 142: {236: 15.606655172414163,\n",
       "  237: 12.920019911504788,\n",
       "  161: 13.245771408350993,\n",
       "  141: 14.834485179407126,\n",
       "  142: 11.713690476190653,\n",
       "  239: 11.247352034073074,\n",
       "  170: 17.223593864134227,\n",
       "  48: 11.054533807829412,\n",
       "  162: 14.452226027397087,\n",
       "  186: 15.218659340659238},\n",
       " 239: {236: 13.538226117103704,\n",
       "  237: 14.825675508945288,\n",
       "  161: 16.57040217391285,\n",
       "  141: 15.784123711340012,\n",
       "  142: 10.884909969258317,\n",
       "  239: 11.09144020037605,\n",
       "  170: 20.659654775604018,\n",
       "  48: 13.888743907011568,\n",
       "  162: 18.035970695970537,\n",
       "  186: 19.001712328767102},\n",
       " 170: {236: 17.657660422479168,\n",
       "  237: 14.118693594193854,\n",
       "  161: 11.416456033498061,\n",
       "  141: 14.51544294003865,\n",
       "  142: 17.415982339955647,\n",
       "  239: 20.75459940652802,\n",
       "  170: 12.241599471249073,\n",
       "  48: 14.421569230769006,\n",
       "  162: 11.197533199194961,\n",
       "  186: 12.408420855213581},\n",
       " 48: {236: 18.258913934426058,\n",
       "  237: 14.645903763108992,\n",
       "  161: 11.40782298358294,\n",
       "  141: 16.408689200329583,\n",
       "  142: 11.124468509546885,\n",
       "  239: 13.844356146610515,\n",
       "  170: 14.168197402597217,\n",
       "  48: 12.132103830856655,\n",
       "  162: 13.13097081218256,\n",
       "  186: 12.057529761904558},\n",
       " 162: {236: 14.711256005491089,\n",
       "  237: 11.61193706761909,\n",
       "  161: 10.65400556328212,\n",
       "  141: 12.097014446228053,\n",
       "  142: 15.315336454066529,\n",
       "  239: 18.293603672532385,\n",
       "  170: 11.130246200607841,\n",
       "  48: 13.543526670118883,\n",
       "  162: 12.465719506623813,\n",
       "  186: 14.23897088970876},\n",
       " 186: {236: 21.413762820512666,\n",
       "  237: 17.831964196916836,\n",
       "  161: 12.690330257406808,\n",
       "  141: 19.374926829268166,\n",
       "  142: 15.55810569105677,\n",
       "  239: 18.932280071813125,\n",
       "  170: 12.561125198098601,\n",
       "  48: 12.051521670357436,\n",
       "  162: 14.67656966490279,\n",
       "  186: 16.93007777777759}}"
      ]
     },
     "execution_count": 75,
     "metadata": {},
     "output_type": "execute_result"
    }
   ],
   "source": [
    "cost_matrix = {} #{Row: Column}\n",
    "temp_2 = []\n",
    "for i in dm_sp:\n",
    "    temp = {}\n",
    "    #temp_2 = []\n",
    "    for j in dm_sp:\n",
    "        #print(i,j)\n",
    "        temp[j] = df.loc[(df['Pickup_Location'] == i) & (df['Dropoff_Location'] == j)].Fare.mean()\n",
    "        #temp_2.append(df.loc[(df['Pickup_Location'] == i) & (df['Dropoff_Location'] == j)].Fare.sum())\n",
    "        #print(temp)\n",
    "    cost_matrix[i] = temp\n",
    "    #print(cost_matrix)\n",
    "cost_matrix"
   ]
  },
  {
   "cell_type": "code",
   "execution_count": 76,
   "id": "f93be618",
   "metadata": {},
   "outputs": [],
   "source": [
    "data = pd.DataFrame(cost_matrix)"
   ]
  },
  {
   "cell_type": "code",
   "execution_count": 77,
   "id": "0bb709cf",
   "metadata": {
    "scrolled": true
   },
   "outputs": [
    {
     "data": {
      "text/html": [
       "<div>\n",
       "<style scoped>\n",
       "    .dataframe tbody tr th:only-of-type {\n",
       "        vertical-align: middle;\n",
       "    }\n",
       "\n",
       "    .dataframe tbody tr th {\n",
       "        vertical-align: top;\n",
       "    }\n",
       "\n",
       "    .dataframe thead th {\n",
       "        text-align: right;\n",
       "    }\n",
       "</style>\n",
       "<table border=\"1\" class=\"dataframe\">\n",
       "  <thead>\n",
       "    <tr style=\"text-align: right;\">\n",
       "      <th></th>\n",
       "      <th>236</th>\n",
       "      <th>237</th>\n",
       "      <th>161</th>\n",
       "      <th>141</th>\n",
       "      <th>142</th>\n",
       "      <th>239</th>\n",
       "      <th>170</th>\n",
       "      <th>48</th>\n",
       "      <th>162</th>\n",
       "      <th>186</th>\n",
       "    </tr>\n",
       "  </thead>\n",
       "  <tbody>\n",
       "    <tr>\n",
       "      <th>236</th>\n",
       "      <td>10.638031</td>\n",
       "      <td>11.606147</td>\n",
       "      <td>15.322201</td>\n",
       "      <td>11.584889</td>\n",
       "      <td>15.606655</td>\n",
       "      <td>13.538226</td>\n",
       "      <td>17.657660</td>\n",
       "      <td>18.258914</td>\n",
       "      <td>14.711256</td>\n",
       "      <td>21.413763</td>\n",
       "    </tr>\n",
       "    <tr>\n",
       "      <th>237</th>\n",
       "      <td>12.257934</td>\n",
       "      <td>10.701927</td>\n",
       "      <td>12.009474</td>\n",
       "      <td>10.649835</td>\n",
       "      <td>12.920020</td>\n",
       "      <td>14.825676</td>\n",
       "      <td>14.118694</td>\n",
       "      <td>14.645904</td>\n",
       "      <td>11.611937</td>\n",
       "      <td>17.831964</td>\n",
       "    </tr>\n",
       "    <tr>\n",
       "      <th>161</th>\n",
       "      <td>15.657458</td>\n",
       "      <td>11.997208</td>\n",
       "      <td>12.513746</td>\n",
       "      <td>14.032588</td>\n",
       "      <td>13.245771</td>\n",
       "      <td>16.570402</td>\n",
       "      <td>11.416456</td>\n",
       "      <td>11.407823</td>\n",
       "      <td>10.654006</td>\n",
       "      <td>12.690330</td>\n",
       "    </tr>\n",
       "    <tr>\n",
       "      <th>141</th>\n",
       "      <td>12.685653</td>\n",
       "      <td>10.771729</td>\n",
       "      <td>13.874980</td>\n",
       "      <td>10.858952</td>\n",
       "      <td>14.834485</td>\n",
       "      <td>15.784124</td>\n",
       "      <td>14.515443</td>\n",
       "      <td>16.408689</td>\n",
       "      <td>12.097014</td>\n",
       "      <td>19.374927</td>\n",
       "    </tr>\n",
       "    <tr>\n",
       "      <th>142</th>\n",
       "      <td>15.301967</td>\n",
       "      <td>13.103977</td>\n",
       "      <td>13.723467</td>\n",
       "      <td>14.762625</td>\n",
       "      <td>11.713690</td>\n",
       "      <td>10.884910</td>\n",
       "      <td>17.415982</td>\n",
       "      <td>11.124469</td>\n",
       "      <td>15.315336</td>\n",
       "      <td>15.558106</td>\n",
       "    </tr>\n",
       "    <tr>\n",
       "      <th>239</th>\n",
       "      <td>13.230947</td>\n",
       "      <td>14.920300</td>\n",
       "      <td>16.956266</td>\n",
       "      <td>15.796712</td>\n",
       "      <td>11.247352</td>\n",
       "      <td>11.091440</td>\n",
       "      <td>20.754599</td>\n",
       "      <td>13.844356</td>\n",
       "      <td>18.293604</td>\n",
       "      <td>18.932280</td>\n",
       "    </tr>\n",
       "    <tr>\n",
       "      <th>170</th>\n",
       "      <td>18.688372</td>\n",
       "      <td>14.188690</td>\n",
       "      <td>11.663082</td>\n",
       "      <td>15.056879</td>\n",
       "      <td>17.223594</td>\n",
       "      <td>20.659655</td>\n",
       "      <td>12.241599</td>\n",
       "      <td>14.168197</td>\n",
       "      <td>11.130246</td>\n",
       "      <td>12.561125</td>\n",
       "    </tr>\n",
       "    <tr>\n",
       "      <th>48</th>\n",
       "      <td>18.878951</td>\n",
       "      <td>15.439524</td>\n",
       "      <td>12.463730</td>\n",
       "      <td>17.237994</td>\n",
       "      <td>11.054534</td>\n",
       "      <td>13.888744</td>\n",
       "      <td>14.421569</td>\n",
       "      <td>12.132104</td>\n",
       "      <td>13.543527</td>\n",
       "      <td>12.051522</td>\n",
       "    </tr>\n",
       "    <tr>\n",
       "      <th>162</th>\n",
       "      <td>15.216398</td>\n",
       "      <td>11.566850</td>\n",
       "      <td>10.654868</td>\n",
       "      <td>12.783667</td>\n",
       "      <td>14.452226</td>\n",
       "      <td>18.035971</td>\n",
       "      <td>11.197533</td>\n",
       "      <td>13.130971</td>\n",
       "      <td>12.465720</td>\n",
       "      <td>14.676570</td>\n",
       "    </tr>\n",
       "    <tr>\n",
       "      <th>186</th>\n",
       "      <td>21.947662</td>\n",
       "      <td>17.836766</td>\n",
       "      <td>13.056966</td>\n",
       "      <td>19.687052</td>\n",
       "      <td>15.218659</td>\n",
       "      <td>19.001712</td>\n",
       "      <td>12.408421</td>\n",
       "      <td>12.057530</td>\n",
       "      <td>14.238971</td>\n",
       "      <td>16.930078</td>\n",
       "    </tr>\n",
       "  </tbody>\n",
       "</table>\n",
       "</div>"
      ],
      "text/plain": [
       "           236        237        161        141        142        239  \\\n",
       "236  10.638031  11.606147  15.322201  11.584889  15.606655  13.538226   \n",
       "237  12.257934  10.701927  12.009474  10.649835  12.920020  14.825676   \n",
       "161  15.657458  11.997208  12.513746  14.032588  13.245771  16.570402   \n",
       "141  12.685653  10.771729  13.874980  10.858952  14.834485  15.784124   \n",
       "142  15.301967  13.103977  13.723467  14.762625  11.713690  10.884910   \n",
       "239  13.230947  14.920300  16.956266  15.796712  11.247352  11.091440   \n",
       "170  18.688372  14.188690  11.663082  15.056879  17.223594  20.659655   \n",
       "48   18.878951  15.439524  12.463730  17.237994  11.054534  13.888744   \n",
       "162  15.216398  11.566850  10.654868  12.783667  14.452226  18.035971   \n",
       "186  21.947662  17.836766  13.056966  19.687052  15.218659  19.001712   \n",
       "\n",
       "           170        48         162        186  \n",
       "236  17.657660  18.258914  14.711256  21.413763  \n",
       "237  14.118694  14.645904  11.611937  17.831964  \n",
       "161  11.416456  11.407823  10.654006  12.690330  \n",
       "141  14.515443  16.408689  12.097014  19.374927  \n",
       "142  17.415982  11.124469  15.315336  15.558106  \n",
       "239  20.754599  13.844356  18.293604  18.932280  \n",
       "170  12.241599  14.168197  11.130246  12.561125  \n",
       "48   14.421569  12.132104  13.543527  12.051522  \n",
       "162  11.197533  13.130971  12.465720  14.676570  \n",
       "186  12.408421  12.057530  14.238971  16.930078  "
      ]
     },
     "execution_count": 77,
     "metadata": {},
     "output_type": "execute_result"
    }
   ],
   "source": [
    "data"
   ]
  },
  {
   "cell_type": "code",
   "execution_count": 78,
   "id": "bd0675ce",
   "metadata": {
    "scrolled": true
   },
   "outputs": [
    {
     "data": {
      "text/html": [
       "<div>\n",
       "<style scoped>\n",
       "    .dataframe tbody tr th:only-of-type {\n",
       "        vertical-align: middle;\n",
       "    }\n",
       "\n",
       "    .dataframe tbody tr th {\n",
       "        vertical-align: top;\n",
       "    }\n",
       "\n",
       "    .dataframe thead th {\n",
       "        text-align: right;\n",
       "    }\n",
       "</style>\n",
       "<table border=\"1\" class=\"dataframe\">\n",
       "  <thead>\n",
       "    <tr style=\"text-align: right;\">\n",
       "      <th></th>\n",
       "      <th>236</th>\n",
       "      <th>237</th>\n",
       "      <th>161</th>\n",
       "      <th>141</th>\n",
       "      <th>142</th>\n",
       "      <th>239</th>\n",
       "      <th>170</th>\n",
       "      <th>48</th>\n",
       "      <th>162</th>\n",
       "      <th>186</th>\n",
       "    </tr>\n",
       "  </thead>\n",
       "  <tbody>\n",
       "    <tr>\n",
       "      <th>236</th>\n",
       "      <td>10.638031</td>\n",
       "      <td>11.606147</td>\n",
       "      <td>15.322201</td>\n",
       "      <td>11.584889</td>\n",
       "      <td>15.606655</td>\n",
       "      <td>13.538226</td>\n",
       "      <td>17.657660</td>\n",
       "      <td>18.258914</td>\n",
       "      <td>14.711256</td>\n",
       "      <td>21.413763</td>\n",
       "    </tr>\n",
       "    <tr>\n",
       "      <th>237</th>\n",
       "      <td>12.257934</td>\n",
       "      <td>10.701927</td>\n",
       "      <td>12.009474</td>\n",
       "      <td>10.649835</td>\n",
       "      <td>12.920020</td>\n",
       "      <td>14.825676</td>\n",
       "      <td>14.118694</td>\n",
       "      <td>14.645904</td>\n",
       "      <td>11.611937</td>\n",
       "      <td>17.831964</td>\n",
       "    </tr>\n",
       "    <tr>\n",
       "      <th>161</th>\n",
       "      <td>15.657458</td>\n",
       "      <td>11.997208</td>\n",
       "      <td>12.513746</td>\n",
       "      <td>14.032588</td>\n",
       "      <td>13.245771</td>\n",
       "      <td>16.570402</td>\n",
       "      <td>11.416456</td>\n",
       "      <td>11.407823</td>\n",
       "      <td>10.654006</td>\n",
       "      <td>12.690330</td>\n",
       "    </tr>\n",
       "    <tr>\n",
       "      <th>141</th>\n",
       "      <td>12.685653</td>\n",
       "      <td>10.771729</td>\n",
       "      <td>13.874980</td>\n",
       "      <td>10.858952</td>\n",
       "      <td>14.834485</td>\n",
       "      <td>15.784124</td>\n",
       "      <td>14.515443</td>\n",
       "      <td>16.408689</td>\n",
       "      <td>12.097014</td>\n",
       "      <td>19.374927</td>\n",
       "    </tr>\n",
       "    <tr>\n",
       "      <th>142</th>\n",
       "      <td>15.301967</td>\n",
       "      <td>13.103977</td>\n",
       "      <td>13.723467</td>\n",
       "      <td>14.762625</td>\n",
       "      <td>11.713690</td>\n",
       "      <td>10.884910</td>\n",
       "      <td>17.415982</td>\n",
       "      <td>11.124469</td>\n",
       "      <td>15.315336</td>\n",
       "      <td>15.558106</td>\n",
       "    </tr>\n",
       "    <tr>\n",
       "      <th>239</th>\n",
       "      <td>13.230947</td>\n",
       "      <td>14.920300</td>\n",
       "      <td>16.956266</td>\n",
       "      <td>15.796712</td>\n",
       "      <td>11.247352</td>\n",
       "      <td>11.091440</td>\n",
       "      <td>20.754599</td>\n",
       "      <td>13.844356</td>\n",
       "      <td>18.293604</td>\n",
       "      <td>18.932280</td>\n",
       "    </tr>\n",
       "    <tr>\n",
       "      <th>170</th>\n",
       "      <td>18.688372</td>\n",
       "      <td>14.188690</td>\n",
       "      <td>11.663082</td>\n",
       "      <td>15.056879</td>\n",
       "      <td>17.223594</td>\n",
       "      <td>20.659655</td>\n",
       "      <td>12.241599</td>\n",
       "      <td>14.168197</td>\n",
       "      <td>11.130246</td>\n",
       "      <td>12.561125</td>\n",
       "    </tr>\n",
       "    <tr>\n",
       "      <th>48</th>\n",
       "      <td>18.878951</td>\n",
       "      <td>15.439524</td>\n",
       "      <td>12.463730</td>\n",
       "      <td>17.237994</td>\n",
       "      <td>11.054534</td>\n",
       "      <td>13.888744</td>\n",
       "      <td>14.421569</td>\n",
       "      <td>12.132104</td>\n",
       "      <td>13.543527</td>\n",
       "      <td>12.051522</td>\n",
       "    </tr>\n",
       "    <tr>\n",
       "      <th>162</th>\n",
       "      <td>15.216398</td>\n",
       "      <td>11.566850</td>\n",
       "      <td>10.654868</td>\n",
       "      <td>12.783667</td>\n",
       "      <td>14.452226</td>\n",
       "      <td>18.035971</td>\n",
       "      <td>11.197533</td>\n",
       "      <td>13.130971</td>\n",
       "      <td>12.465720</td>\n",
       "      <td>14.676570</td>\n",
       "    </tr>\n",
       "    <tr>\n",
       "      <th>186</th>\n",
       "      <td>21.947662</td>\n",
       "      <td>17.836766</td>\n",
       "      <td>13.056966</td>\n",
       "      <td>19.687052</td>\n",
       "      <td>15.218659</td>\n",
       "      <td>19.001712</td>\n",
       "      <td>12.408421</td>\n",
       "      <td>12.057530</td>\n",
       "      <td>14.238971</td>\n",
       "      <td>16.930078</td>\n",
       "    </tr>\n",
       "  </tbody>\n",
       "</table>\n",
       "</div>"
      ],
      "text/plain": [
       "           236        237        161        141        142        239  \\\n",
       "236  10.638031  11.606147  15.322201  11.584889  15.606655  13.538226   \n",
       "237  12.257934  10.701927  12.009474  10.649835  12.920020  14.825676   \n",
       "161  15.657458  11.997208  12.513746  14.032588  13.245771  16.570402   \n",
       "141  12.685653  10.771729  13.874980  10.858952  14.834485  15.784124   \n",
       "142  15.301967  13.103977  13.723467  14.762625  11.713690  10.884910   \n",
       "239  13.230947  14.920300  16.956266  15.796712  11.247352  11.091440   \n",
       "170  18.688372  14.188690  11.663082  15.056879  17.223594  20.659655   \n",
       "48   18.878951  15.439524  12.463730  17.237994  11.054534  13.888744   \n",
       "162  15.216398  11.566850  10.654868  12.783667  14.452226  18.035971   \n",
       "186  21.947662  17.836766  13.056966  19.687052  15.218659  19.001712   \n",
       "\n",
       "           170        48         162        186  \n",
       "236  17.657660  18.258914  14.711256  21.413763  \n",
       "237  14.118694  14.645904  11.611937  17.831964  \n",
       "161  11.416456  11.407823  10.654006  12.690330  \n",
       "141  14.515443  16.408689  12.097014  19.374927  \n",
       "142  17.415982  11.124469  15.315336  15.558106  \n",
       "239  20.754599  13.844356  18.293604  18.932280  \n",
       "170  12.241599  14.168197  11.130246  12.561125  \n",
       "48   14.421569  12.132104  13.543527  12.051522  \n",
       "162  11.197533  13.130971  12.465720  14.676570  \n",
       "186  12.408421  12.057530  14.238971  16.930078  "
      ]
     },
     "execution_count": 78,
     "metadata": {},
     "output_type": "execute_result"
    }
   ],
   "source": [
    "data.dropna()"
   ]
  },
  {
   "cell_type": "code",
   "execution_count": 79,
   "id": "d7fc30f1",
   "metadata": {},
   "outputs": [],
   "source": [
    "data.to_csv('Cost Matrix.csv', index=True)"
   ]
  },
  {
   "cell_type": "code",
   "execution_count": 80,
   "id": "ca76a514",
   "metadata": {},
   "outputs": [
    {
     "data": {
      "text/plain": [
       "array([141, 234,  87, 132,  68, 161, 138, 162, 229, 114, 148,  95,  48,\n",
       "         7, 163, 230, 164, 186,  36, 107, 137, 239, 211, 264,  70,  50,\n",
       "       158, 237,  83, 249, 166, 263, 233,  79,  42, 142, 170, 236, 256,\n",
       "       140, 143, 260, 196, 129, 174,  90, 261, 102, 135,  13, 179,  93,\n",
       "        88, 226, 246, 100,  43,  92, 113,  41,  61, 145, 231, 125, 151,\n",
       "        18,  29,  24,  75, 223, 175, 262, 124,  82, 209,  63, 191, 238,\n",
       "       144, 119, 232, 198, 149,  56,  21, 130,  28, 134, 197,  76, 212,\n",
       "       146, 244, 116, 259, 157,  38,  52,  16, 160,  86,  91, 203, 215,\n",
       "        72,  17,  65, 131], dtype=int64)"
      ]
     },
     "execution_count": 80,
     "metadata": {},
     "output_type": "execute_result"
    }
   ],
   "source": [
    "df.loc[(df['Dropoff_Location'] == 95)]['Pickup_Location'].unique()"
   ]
  },
  {
   "cell_type": "code",
   "execution_count": 81,
   "id": "d5cd868f",
   "metadata": {},
   "outputs": [
    {
     "data": {
      "text/plain": [
       "237    119057\n",
       "236    117603\n",
       "132    102419\n",
       "161     86491\n",
       "186     79317\n",
       "142     78065\n",
       "141     75125\n",
       "48      74575\n",
       "170     73532\n",
       "162     73122\n",
       "Name: Pickup_Location, dtype: int64"
      ]
     },
     "execution_count": 81,
     "metadata": {},
     "output_type": "execute_result"
    }
   ],
   "source": [
    "x_1"
   ]
  },
  {
   "cell_type": "code",
   "execution_count": 82,
   "id": "2887e819",
   "metadata": {},
   "outputs": [
    {
     "data": {
      "text/html": [
       "<div>\n",
       "<style scoped>\n",
       "    .dataframe tbody tr th:only-of-type {\n",
       "        vertical-align: middle;\n",
       "    }\n",
       "\n",
       "    .dataframe tbody tr th {\n",
       "        vertical-align: top;\n",
       "    }\n",
       "\n",
       "    .dataframe thead th {\n",
       "        text-align: right;\n",
       "    }\n",
       "</style>\n",
       "<table border=\"1\" class=\"dataframe\">\n",
       "  <thead>\n",
       "    <tr style=\"text-align: right;\">\n",
       "      <th></th>\n",
       "      <th>LocationID</th>\n",
       "      <th>Avg Taxis</th>\n",
       "    </tr>\n",
       "  </thead>\n",
       "  <tbody>\n",
       "    <tr>\n",
       "      <th>0</th>\n",
       "      <td>236</td>\n",
       "      <td>118813</td>\n",
       "    </tr>\n",
       "    <tr>\n",
       "      <th>1</th>\n",
       "      <td>237</td>\n",
       "      <td>111344</td>\n",
       "    </tr>\n",
       "    <tr>\n",
       "      <th>2</th>\n",
       "      <td>161</td>\n",
       "      <td>79534</td>\n",
       "    </tr>\n",
       "    <tr>\n",
       "      <th>3</th>\n",
       "      <td>141</td>\n",
       "      <td>75650</td>\n",
       "    </tr>\n",
       "    <tr>\n",
       "      <th>4</th>\n",
       "      <td>142</td>\n",
       "      <td>73180</td>\n",
       "    </tr>\n",
       "    <tr>\n",
       "      <th>5</th>\n",
       "      <td>239</td>\n",
       "      <td>72762</td>\n",
       "    </tr>\n",
       "    <tr>\n",
       "      <th>6</th>\n",
       "      <td>170</td>\n",
       "      <td>72590</td>\n",
       "    </tr>\n",
       "    <tr>\n",
       "      <th>7</th>\n",
       "      <td>48</td>\n",
       "      <td>70347</td>\n",
       "    </tr>\n",
       "    <tr>\n",
       "      <th>8</th>\n",
       "      <td>162</td>\n",
       "      <td>64410</td>\n",
       "    </tr>\n",
       "    <tr>\n",
       "      <th>9</th>\n",
       "      <td>186</td>\n",
       "      <td>63090</td>\n",
       "    </tr>\n",
       "  </tbody>\n",
       "</table>\n",
       "</div>"
      ],
      "text/plain": [
       "   LocationID  Avg Taxis\n",
       "0         236     118813\n",
       "1         237     111344\n",
       "2         161      79534\n",
       "3         141      75650\n",
       "4         142      73180\n",
       "5         239      72762\n",
       "6         170      72590\n",
       "7          48      70347\n",
       "8         162      64410\n",
       "9         186      63090"
      ]
     },
     "execution_count": 82,
     "metadata": {},
     "output_type": "execute_result"
    }
   ],
   "source": [
    "df_dm_sm = pd.DataFrame.from_dict(dm_sp, orient='index', columns=['Avg Taxis'])\n",
    "df_dm_sm .index.name = 'LocationID'\n",
    "df_dm_sm .reset_index(inplace=True)\n",
    "df_dm_sm"
   ]
  },
  {
   "cell_type": "code",
   "execution_count": 83,
   "id": "5c683211",
   "metadata": {},
   "outputs": [
    {
     "data": {
      "text/html": [
       "<div>\n",
       "<style scoped>\n",
       "    .dataframe tbody tr th:only-of-type {\n",
       "        vertical-align: middle;\n",
       "    }\n",
       "\n",
       "    .dataframe tbody tr th {\n",
       "        vertical-align: top;\n",
       "    }\n",
       "\n",
       "    .dataframe thead th {\n",
       "        text-align: right;\n",
       "    }\n",
       "</style>\n",
       "<table border=\"1\" class=\"dataframe\">\n",
       "  <thead>\n",
       "    <tr style=\"text-align: right;\">\n",
       "      <th></th>\n",
       "      <th>LocationID</th>\n",
       "      <th>Avg Taxis</th>\n",
       "    </tr>\n",
       "  </thead>\n",
       "  <tbody>\n",
       "    <tr>\n",
       "      <th>0</th>\n",
       "      <td>236</td>\n",
       "      <td>118813</td>\n",
       "    </tr>\n",
       "    <tr>\n",
       "      <th>1</th>\n",
       "      <td>237</td>\n",
       "      <td>111344</td>\n",
       "    </tr>\n",
       "    <tr>\n",
       "      <th>2</th>\n",
       "      <td>161</td>\n",
       "      <td>79534</td>\n",
       "    </tr>\n",
       "    <tr>\n",
       "      <th>3</th>\n",
       "      <td>141</td>\n",
       "      <td>75650</td>\n",
       "    </tr>\n",
       "    <tr>\n",
       "      <th>4</th>\n",
       "      <td>142</td>\n",
       "      <td>73180</td>\n",
       "    </tr>\n",
       "    <tr>\n",
       "      <th>5</th>\n",
       "      <td>239</td>\n",
       "      <td>72762</td>\n",
       "    </tr>\n",
       "    <tr>\n",
       "      <th>6</th>\n",
       "      <td>170</td>\n",
       "      <td>72590</td>\n",
       "    </tr>\n",
       "    <tr>\n",
       "      <th>7</th>\n",
       "      <td>48</td>\n",
       "      <td>70347</td>\n",
       "    </tr>\n",
       "    <tr>\n",
       "      <th>8</th>\n",
       "      <td>162</td>\n",
       "      <td>64410</td>\n",
       "    </tr>\n",
       "    <tr>\n",
       "      <th>9</th>\n",
       "      <td>186</td>\n",
       "      <td>63090</td>\n",
       "    </tr>\n",
       "  </tbody>\n",
       "</table>\n",
       "</div>"
      ],
      "text/plain": [
       "   LocationID  Avg Taxis\n",
       "0         236     118813\n",
       "1         237     111344\n",
       "2         161      79534\n",
       "3         141      75650\n",
       "4         142      73180\n",
       "5         239      72762\n",
       "6         170      72590\n",
       "7          48      70347\n",
       "8         162      64410\n",
       "9         186      63090"
      ]
     },
     "execution_count": 83,
     "metadata": {},
     "output_type": "execute_result"
    }
   ],
   "source": [
    "df_dm_sm.head(10)"
   ]
  },
  {
   "cell_type": "code",
   "execution_count": 84,
   "id": "365589d1",
   "metadata": {},
   "outputs": [],
   "source": [
    "# df_dm_sm.to_csv('Symmetric Demand and Supply_Yellow_Trip.csv', index=True)"
   ]
  },
  {
   "cell_type": "code",
   "execution_count": 85,
   "id": "1a0709ce",
   "metadata": {},
   "outputs": [],
   "source": [
    "df_dm_sm.to_csv('Symmetric Demand and Supply_Green_Trip.csv', index=True)"
   ]
  }
 ],
 "metadata": {
  "kernelspec": {
   "display_name": "Python 3 (ipykernel)",
   "language": "python",
   "name": "python3"
  },
  "language_info": {
   "codemirror_mode": {
    "name": "ipython",
    "version": 3
   },
   "file_extension": ".py",
   "mimetype": "text/x-python",
   "name": "python",
   "nbconvert_exporter": "python",
   "pygments_lexer": "ipython3",
   "version": "3.9.13"
  }
 },
 "nbformat": 4,
 "nbformat_minor": 5
}
